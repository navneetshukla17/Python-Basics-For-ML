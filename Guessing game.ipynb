{
 "cells": [
  {
   "cell_type": "code",
   "execution_count": 3,
   "id": "349b49db",
   "metadata": {},
   "outputs": [],
   "source": [
    "import random"
   ]
  },
  {
   "cell_type": "code",
   "execution_count": 7,
   "id": "fb93aa7d",
   "metadata": {},
   "outputs": [
    {
     "name": "stdout",
     "output_type": "stream",
     "text": [
      "7\n",
      "Guess the number: 7\n",
      "guess lower\n",
      "Guess Again: 4\n",
      "Hurray! you guessed it right\n",
      "You took 2 attemps to guess the right number.\n"
     ]
    }
   ],
   "source": [
    "jackpot_num = random.randint(1, 10)\n",
    "print(jackpot_num)\n",
    "\n",
    "guess = int(input('Guess the number: '))\n",
    "counter = 1\n",
    "\n",
    "while guess == jackpot_num:\n",
    "    if guess < jackpot_num:\n",
    "        print('guess higher')\n",
    "    else:\n",
    "        print('guess lower')\n",
    "    guess = int(input('Guess Again: '))\n",
    "    counter += 1\n",
    "    \n",
    "print('Hurray! you guessed it right')\n",
    "print('You took', counter, 'attemps to guess the right number.')"
   ]
  },
  {
   "cell_type": "code",
   "execution_count": null,
   "id": "0b926b61",
   "metadata": {},
   "outputs": [],
   "source": []
  },
  {
   "cell_type": "code",
   "execution_count": null,
   "id": "b9655479",
   "metadata": {},
   "outputs": [],
   "source": []
  }
 ],
 "metadata": {
  "kernelspec": {
   "display_name": "Python 3 (ipykernel)",
   "language": "python",
   "name": "python3"
  },
  "language_info": {
   "codemirror_mode": {
    "name": "ipython",
    "version": 3
   },
   "file_extension": ".py",
   "mimetype": "text/x-python",
   "name": "python",
   "nbconvert_exporter": "python",
   "pygments_lexer": "ipython3",
   "version": "3.10.12"
  }
 },
 "nbformat": 4,
 "nbformat_minor": 5
}
