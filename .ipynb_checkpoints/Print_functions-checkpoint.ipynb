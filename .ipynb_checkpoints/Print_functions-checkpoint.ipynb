{
 "cells": [
  {
   "cell_type": "code",
   "execution_count": 3,
   "id": "a411b9b5",
   "metadata": {},
   "outputs": [
    {
     "name": "stdout",
     "output_type": "stream",
     "text": [
      "Hello World\n"
     ]
    }
   ],
   "source": [
    "print(\"Hello World\") # string data type"
   ]
  },
  {
   "cell_type": "code",
   "execution_count": 4,
   "id": "76e13257",
   "metadata": {},
   "outputs": [
    {
     "name": "stdout",
     "output_type": "stream",
     "text": [
      "6\n"
     ]
    }
   ],
   "source": [
    "print(6) # int data type"
   ]
  },
  {
   "cell_type": "code",
   "execution_count": 5,
   "id": "c3ee2fcc",
   "metadata": {},
   "outputs": [
    {
     "name": "stdout",
     "output_type": "stream",
     "text": [
      "5.6\n"
     ]
    }
   ],
   "source": [
    "print(5.6) # float data type"
   ]
  },
  {
   "cell_type": "code",
   "execution_count": 6,
   "id": "8b36d963",
   "metadata": {},
   "outputs": [
    {
     "name": "stdout",
     "output_type": "stream",
     "text": [
      "False\n"
     ]
    }
   ],
   "source": [
    "print(False) # boolean data type"
   ]
  },
  {
   "cell_type": "code",
   "execution_count": 8,
   "id": "a10eadad",
   "metadata": {},
   "outputs": [
    {
     "name": "stdout",
     "output_type": "stream",
     "text": [
      "India Pakistan Bangladesh Srilanka\n"
     ]
    }
   ],
   "source": [
    "print(\"India\", \"Pakistan\", \"Bangladesh\", \"Srilanka\") # print multiple values in one line"
   ]
  },
  {
   "cell_type": "code",
   "execution_count": 9,
   "id": "1665c278",
   "metadata": {},
   "outputs": [
    {
     "name": "stdout",
     "output_type": "stream",
     "text": [
      "India 5 True 5.6\n"
     ]
    }
   ],
   "source": [
    "print(\"India\", 5, True, 5.6) # print different data type values in one line"
   ]
  },
  {
   "cell_type": "code",
   "execution_count": 25,
   "id": "cc828377",
   "metadata": {},
   "outputs": [
    {
     "name": "stdout",
     "output_type": "stream",
     "text": [
      "This-is-an-example-of-seperators in Python.\n"
     ]
    }
   ],
   "source": [
    "print(\"This\", \"is\", \"an\", \"example\", \"of\", \"seperators in Python.\", sep='-') # sep parameter"
   ]
  },
  {
   "cell_type": "code",
   "execution_count": 36,
   "id": "5c8516d8",
   "metadata": {},
   "outputs": [
    {
     "name": "stdout",
     "output_type": "stream",
     "text": [
      "Tushar Shukla\n"
     ]
    }
   ],
   "source": [
    "print(\"Tushar\", end=' ') # end parameter\n",
    "print(\"Shukla\")"
   ]
  },
  {
   "cell_type": "markdown",
   "id": "d08e760e",
   "metadata": {},
   "source": [
    "#### Now only two parameters are left\n",
    "1. file\n",
    "2. flush\n",
    "#### These two parameters are used when dealing with files e.g. 'File Handlings.'"
   ]
  }
 ],
 "metadata": {
  "kernelspec": {
   "display_name": "Python 3 (ipykernel)",
   "language": "python",
   "name": "python3"
  },
  "language_info": {
   "codemirror_mode": {
    "name": "ipython",
    "version": 3
   },
   "file_extension": ".py",
   "mimetype": "text/x-python",
   "name": "python",
   "nbconvert_exporter": "python",
   "pygments_lexer": "ipython3",
   "version": "3.10.12"
  }
 },
 "nbformat": 4,
 "nbformat_minor": 5
}
