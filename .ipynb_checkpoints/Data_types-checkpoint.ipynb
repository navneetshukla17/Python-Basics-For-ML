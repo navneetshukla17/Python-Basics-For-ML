{
 "cells": [
  {
   "cell_type": "markdown",
   "id": "deca9c45",
   "metadata": {},
   "source": [
    "## Python supports 3 categories of data types:\n",
    "\n",
    "1. Basic data type - (Integer, Float, String, Complex, Boolean)\n",
    "2. Contianer data type - (List, Tuples, Sets, Dictionary)\n",
    "3. User defined data type - Class"
   ]
  },
  {
   "cell_type": "markdown",
   "id": "bb646c29",
   "metadata": {},
   "source": [
    "### Basic data type"
   ]
  },
  {
   "cell_type": "code",
   "execution_count": 16,
   "id": "d5cb68b4",
   "metadata": {
    "scrolled": true
   },
   "outputs": [
    {
     "name": "stdout",
     "output_type": "stream",
     "text": [
      "100\n",
      "1e+308\n"
     ]
    }
   ],
   "source": [
    "# Integer\n",
    "print(100)\n",
    "print(1e308) # Limit to store integer values in Python is 1e308 (10 to the power 308)"
   ]
  },
  {
   "cell_type": "code",
   "execution_count": 17,
   "id": "8aa01fbc",
   "metadata": {},
   "outputs": [
    {
     "name": "stdout",
     "output_type": "stream",
     "text": [
      "5.2\n",
      "1.7e+308\n"
     ]
    }
   ],
   "source": [
    "# Float\n",
    "print(5.2)\n",
    "print(1.7e308) # Limit to store float values in Python is 1e308 (10 to the power 308)"
   ]
  },
  {
   "cell_type": "code",
   "execution_count": 24,
   "id": "7f91a213",
   "metadata": {},
   "outputs": [
    {
     "name": "stdout",
     "output_type": "stream",
     "text": [
      "True\n",
      "False\n"
     ]
    }
   ],
   "source": [
    "# Boolean\n",
    "print(True)\n",
    "print(False)"
   ]
  },
  {
   "cell_type": "code",
   "execution_count": 25,
   "id": "863829ea",
   "metadata": {},
   "outputs": [
    {
     "name": "stdout",
     "output_type": "stream",
     "text": [
      "You can use single inverted comma.\n",
      "You can use double inverted comma.\n",
      "Even, You can use triple inverted comma as well.\n"
     ]
    }
   ],
   "source": [
    "# String\n",
    "print('You can use single inverted comma.')\n",
    "print(\"You can use double inverted comma.\")\n",
    "print(\"Even, You can use triple inverted comma as well.\")"
   ]
  },
  {
   "cell_type": "markdown",
   "id": "d3d38c5d",
   "metadata": {},
   "source": [
    "## Container data type"
   ]
  },
  {
   "cell_type": "code",
   "execution_count": 26,
   "id": "93bdb6f2",
   "metadata": {},
   "outputs": [
    {
     "name": "stdout",
     "output_type": "stream",
     "text": [
      "[1, 2, 3, 4, 5]\n"
     ]
    }
   ],
   "source": [
    "# List\n",
    "print([1, 2, 3, 4, 5])"
   ]
  },
  {
   "cell_type": "code",
   "execution_count": 27,
   "id": "bb5871c6",
   "metadata": {},
   "outputs": [
    {
     "name": "stdout",
     "output_type": "stream",
     "text": [
      "(1, 2, 3, 4, 5)\n"
     ]
    }
   ],
   "source": [
    "# Tuple\n",
    "print((1, 2, 3, 4, 5))"
   ]
  },
  {
   "cell_type": "code",
   "execution_count": 28,
   "id": "4db045f6",
   "metadata": {},
   "outputs": [
    {
     "name": "stdout",
     "output_type": "stream",
     "text": [
      "{1, 2, 3, 4, 5}\n"
     ]
    }
   ],
   "source": [
    "# sets\n",
    "print({1, 2, 3, 4, 5})"
   ]
  },
  {
   "cell_type": "code",
   "execution_count": 30,
   "id": "6f4a45dd",
   "metadata": {},
   "outputs": [
    {
     "name": "stdout",
     "output_type": "stream",
     "text": [
      "{'Name': 'Tushar', 'Age': 22, 'gender': 'Male'}\n"
     ]
    }
   ],
   "source": [
    "# dictionary\n",
    "print({\"Name\":\"Tushar\", \"Age\":22, \"gender\":\"Male\"})"
   ]
  },
  {
   "cell_type": "code",
   "execution_count": null,
   "id": "b2489bc8",
   "metadata": {},
   "outputs": [],
   "source": []
  }
 ],
 "metadata": {
  "kernelspec": {
   "display_name": "Python 3 (ipykernel)",
   "language": "python",
   "name": "python3"
  },
  "language_info": {
   "codemirror_mode": {
    "name": "ipython",
    "version": 3
   },
   "file_extension": ".py",
   "mimetype": "text/x-python",
   "name": "python",
   "nbconvert_exporter": "python",
   "pygments_lexer": "ipython3",
   "version": "3.10.12"
  }
 },
 "nbformat": 4,
 "nbformat_minor": 5
}
