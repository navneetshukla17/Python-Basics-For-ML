{
 "cells": [
  {
   "cell_type": "markdown",
   "id": "45f82700",
   "metadata": {},
   "source": [
    "- Create\n",
    "- Access\n",
    "- Edit\n",
    "- Add\n",
    "- Operations\n",
    "- Functions"
   ]
  },
  {
   "cell_type": "markdown",
   "id": "5147c293",
   "metadata": {},
   "source": [
    "- CREATE"
   ]
  },
  {
   "cell_type": "markdown",
   "id": "653eeda7",
   "metadata": {},
   "source": [
    "- 1-Dimensional tuple (homogenous & hetrogenous)"
   ]
  },
  {
   "cell_type": "code",
   "execution_count": 14,
   "id": "65b2bfcc",
   "metadata": {},
   "outputs": [],
   "source": [
    "T1 = () # an empty tuple"
   ]
  },
  {
   "cell_type": "code",
   "execution_count": 15,
   "id": "5ae0ec93",
   "metadata": {},
   "outputs": [],
   "source": [
    "T2 = (1, 2, 3, 4, 5) # homogenous tuple"
   ]
  },
  {
   "cell_type": "code",
   "execution_count": 16,
   "id": "f5967a18",
   "metadata": {},
   "outputs": [],
   "source": [
    "T3 = ('Hello', 5, 4.5, True, (5+6j)) # hetrogenous tuple"
   ]
  },
  {
   "cell_type": "markdown",
   "id": "bb738fbd",
   "metadata": {},
   "source": [
    "- 2-Dimensional tuple (homogenous & hetrogenous)"
   ]
  },
  {
   "cell_type": "code",
   "execution_count": 17,
   "id": "c1c887ca",
   "metadata": {},
   "outputs": [],
   "source": [
    "T4 = (1, 2, 3, (4, 5)) # homogenous tuple"
   ]
  },
  {
   "cell_type": "code",
   "execution_count": 18,
   "id": "486c00aa",
   "metadata": {},
   "outputs": [],
   "source": [
    "T5 = ('Hello', 5, 4.5, (True, (5+6j))) # hetrogenous tuple"
   ]
  },
  {
   "cell_type": "markdown",
   "id": "1df9e98d",
   "metadata": {},
   "source": [
    "- 3-Dimensional tuple (homogenous & hetrogenous)"
   ]
  },
  {
   "cell_type": "code",
   "execution_count": 19,
   "id": "8a3f2c58",
   "metadata": {},
   "outputs": [],
   "source": [
    "T6 = (((1, 2), (3, 4)), ((5, 6), (7, 8))) # homogenous tuple"
   ]
  },
  {
   "cell_type": "code",
   "execution_count": 20,
   "id": "102d84c9",
   "metadata": {},
   "outputs": [],
   "source": [
    "T7 = ((('hello', 5), (4.5, (5+6j))), ((True, 6), (False, 6.7))) # hetrogenous tuple"
   ]
  },
  {
   "cell_type": "markdown",
   "id": "901e1500",
   "metadata": {},
   "source": [
    "- ACCESS"
   ]
  },
  {
   "cell_type": "code",
   "execution_count": 21,
   "id": "70d46074",
   "metadata": {},
   "outputs": [
    {
     "data": {
      "text/plain": [
       "6"
      ]
     },
     "execution_count": 21,
     "metadata": {},
     "output_type": "execute_result"
    }
   ],
   "source": [
    "T6[-1][0][1]"
   ]
  },
  {
   "cell_type": "code",
   "execution_count": 22,
   "id": "1f056629",
   "metadata": {},
   "outputs": [
    {
     "data": {
      "text/plain": [
       "False"
      ]
     },
     "execution_count": 22,
     "metadata": {},
     "output_type": "execute_result"
    }
   ],
   "source": [
    "T7[1][1][0]"
   ]
  },
  {
   "cell_type": "markdown",
   "id": "793261bd",
   "metadata": {},
   "source": [
    "- Edit & Delete\n",
    "    \n",
    "     - Editing and Deleting is not supported by the tuples, because it voilets its Immutability."
   ]
  },
  {
   "cell_type": "markdown",
   "id": "0608bab8",
   "metadata": {},
   "source": [
    "- Operations\n",
    "\n",
    "    - concatination\n",
    "    - multiplication\n",
    "    - loops in tuple\n",
    "    - membership \n",
    "    etc ..."
   ]
  },
  {
   "cell_type": "code",
   "execution_count": 26,
   "id": "f512262a",
   "metadata": {},
   "outputs": [],
   "source": [
    "t1 = (1, 2, 3)\n",
    "t2 = (4, 5, 6)"
   ]
  },
  {
   "cell_type": "code",
   "execution_count": 28,
   "id": "4d37097b",
   "metadata": {},
   "outputs": [
    {
     "name": "stdout",
     "output_type": "stream",
     "text": [
      "(1, 2, 3, 4, 5, 6)\n"
     ]
    }
   ],
   "source": [
    "print(t1 + t2) # concatination operation"
   ]
  },
  {
   "cell_type": "code",
   "execution_count": 30,
   "id": "3caaf712",
   "metadata": {},
   "outputs": [
    {
     "name": "stdout",
     "output_type": "stream",
     "text": [
      "(1, 2, 3, 1, 2, 3, 1, 2, 3)\n"
     ]
    }
   ],
   "source": [
    "print(t1 * 3) # multiplication operation"
   ]
  },
  {
   "cell_type": "code",
   "execution_count": 56,
   "id": "1b171df4",
   "metadata": {},
   "outputs": [
    {
     "name": "stdout",
     "output_type": "stream",
     "text": [
      "1\n",
      "2\n",
      "3\n",
      "4\n",
      "5\n",
      "6\n"
     ]
    }
   ],
   "source": [
    "t5 = t1 + t2\n",
    "for i in t5:\n",
    "    print(i)"
   ]
  },
  {
   "cell_type": "code",
   "execution_count": 33,
   "id": "09c57326",
   "metadata": {},
   "outputs": [
    {
     "data": {
      "text/plain": [
       "(True, False)"
      ]
     },
     "execution_count": 33,
     "metadata": {},
     "output_type": "execute_result"
    }
   ],
   "source": [
    "2 in t1, 21 in t1 # membership operation"
   ]
  },
  {
   "cell_type": "markdown",
   "id": "4acda754",
   "metadata": {},
   "source": [
    "- Functions\n",
    "\n",
    "    - tuple supports every functions like list.\n",
    "        \n",
    "        1. len()\n",
    "        2. min(),  max ()\n",
    "        3. sum()\n",
    "        4. sorted()\n",
    "        5. sort()"
   ]
  },
  {
   "cell_type": "code",
   "execution_count": 35,
   "id": "4899261d",
   "metadata": {},
   "outputs": [
    {
     "data": {
      "text/plain": [
       "5"
      ]
     },
     "execution_count": 35,
     "metadata": {},
     "output_type": "execute_result"
    }
   ],
   "source": [
    "len(T2)"
   ]
  },
  {
   "cell_type": "code",
   "execution_count": 40,
   "id": "9b3b07ef",
   "metadata": {},
   "outputs": [
    {
     "data": {
      "text/plain": [
       "(6, 4)"
      ]
     },
     "execution_count": 40,
     "metadata": {},
     "output_type": "execute_result"
    }
   ],
   "source": [
    "max(t2), min(t2)"
   ]
  },
  {
   "cell_type": "code",
   "execution_count": 41,
   "id": "39182620",
   "metadata": {},
   "outputs": [
    {
     "data": {
      "text/plain": [
       "15"
      ]
     },
     "execution_count": 41,
     "metadata": {},
     "output_type": "execute_result"
    }
   ],
   "source": [
    "sum(t2)"
   ]
  },
  {
   "cell_type": "code",
   "execution_count": 43,
   "id": "4b2cc0a6",
   "metadata": {},
   "outputs": [
    {
     "data": {
      "text/plain": [
       "[6, 5, 4]"
      ]
     },
     "execution_count": 43,
     "metadata": {},
     "output_type": "execute_result"
    }
   ],
   "source": [
    "sorted(t2, reverse=True)"
   ]
  },
  {
   "cell_type": "code",
   "execution_count": 50,
   "id": "6f0148e5",
   "metadata": {},
   "outputs": [],
   "source": [
    "t3 = (5, 4, 3, 2, 1)"
   ]
  },
  {
   "cell_type": "code",
   "execution_count": null,
   "id": "1167b9f2",
   "metadata": {},
   "outputs": [],
   "source": []
  },
  {
   "cell_type": "code",
   "execution_count": null,
   "id": "fcce0c6a",
   "metadata": {},
   "outputs": [],
   "source": []
  }
 ],
 "metadata": {
  "kernelspec": {
   "display_name": "Python 3 (ipykernel)",
   "language": "python",
   "name": "python3"
  },
  "language_info": {
   "codemirror_mode": {
    "name": "ipython",
    "version": 3
   },
   "file_extension": ".py",
   "mimetype": "text/x-python",
   "name": "python",
   "nbconvert_exporter": "python",
   "pygments_lexer": "ipython3",
   "version": "3.10.12"
  }
 },
 "nbformat": 4,
 "nbformat_minor": 5
}
