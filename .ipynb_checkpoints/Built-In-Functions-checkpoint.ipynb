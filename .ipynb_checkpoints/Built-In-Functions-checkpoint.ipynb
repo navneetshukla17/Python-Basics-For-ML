{
 "cells": [
  {
   "cell_type": "markdown",
   "id": "f988912f",
   "metadata": {},
   "source": [
    "### print fun()"
   ]
  },
  {
   "cell_type": "code",
   "execution_count": 1,
   "id": "ba27f0ce",
   "metadata": {},
   "outputs": [
    {
     "name": "stdout",
     "output_type": "stream",
     "text": [
      "Hello world\n"
     ]
    }
   ],
   "source": [
    "print('Hello world')"
   ]
  },
  {
   "cell_type": "markdown",
   "id": "ab0a7d76",
   "metadata": {},
   "source": [
    "### input fun()"
   ]
  },
  {
   "cell_type": "code",
   "execution_count": 2,
   "id": "5be0f881",
   "metadata": {},
   "outputs": [
    {
     "name": "stdout",
     "output_type": "stream",
     "text": [
      "Enter your name: Ragnar Lothbrok\n"
     ]
    },
    {
     "data": {
      "text/plain": [
       "'Ragnar Lothbrok'"
      ]
     },
     "execution_count": 2,
     "metadata": {},
     "output_type": "execute_result"
    }
   ],
   "source": [
    "input('Enter your name: ')"
   ]
  },
  {
   "cell_type": "markdown",
   "id": "f9e570b8",
   "metadata": {},
   "source": [
    "### type fun()"
   ]
  },
  {
   "cell_type": "code",
   "execution_count": 3,
   "id": "83eed6b2",
   "metadata": {},
   "outputs": [
    {
     "data": {
      "text/plain": [
       "str"
      ]
     },
     "execution_count": 3,
     "metadata": {},
     "output_type": "execute_result"
    }
   ],
   "source": [
    "a = 'Mumbai'\n",
    "type(a)"
   ]
  },
  {
   "cell_type": "markdown",
   "id": "1759f50b",
   "metadata": {},
   "source": [
    "### int etc.. fun()"
   ]
  },
  {
   "cell_type": "code",
   "execution_count": 4,
   "id": "5c8d38c6",
   "metadata": {},
   "outputs": [
    {
     "data": {
      "text/plain": [
       "13"
      ]
     },
     "execution_count": 4,
     "metadata": {},
     "output_type": "execute_result"
    }
   ],
   "source": [
    "a = 13.5\n",
    "int(a)"
   ]
  },
  {
   "cell_type": "markdown",
   "id": "fccc3aa9",
   "metadata": {},
   "source": [
    "### abs fun()"
   ]
  },
  {
   "cell_type": "code",
   "execution_count": 5,
   "id": "dbf9aedc",
   "metadata": {},
   "outputs": [
    {
     "data": {
      "text/plain": [
       "10"
      ]
     },
     "execution_count": 5,
     "metadata": {},
     "output_type": "execute_result"
    }
   ],
   "source": [
    "a = -10\n",
    "abs(a)"
   ]
  },
  {
   "cell_type": "markdown",
   "id": "eda1dbf1",
   "metadata": {},
   "source": [
    "### pow fun()"
   ]
  },
  {
   "cell_type": "code",
   "execution_count": 6,
   "id": "291e723f",
   "metadata": {},
   "outputs": [
    {
     "data": {
      "text/plain": [
       "8"
      ]
     },
     "execution_count": 6,
     "metadata": {},
     "output_type": "execute_result"
    }
   ],
   "source": [
    "pow(2, 3)"
   ]
  },
  {
   "cell_type": "markdown",
   "id": "91be1d05",
   "metadata": {},
   "source": [
    "### min / max fun()"
   ]
  },
  {
   "cell_type": "code",
   "execution_count": 7,
   "id": "f870377e",
   "metadata": {},
   "outputs": [
    {
     "name": "stdout",
     "output_type": "stream",
     "text": [
      "Minimum value: 1\n",
      "Maximum value: 5\n"
     ]
    }
   ],
   "source": [
    "print('Minimum value:',  min([1, 2, 3, 4, 5]))\n",
    "print('Maximum value:',  max([1, 2, 3, 4, 5]))"
   ]
  },
  {
   "cell_type": "markdown",
   "id": "363dd953",
   "metadata": {},
   "source": [
    "### round fun()"
   ]
  },
  {
   "cell_type": "code",
   "execution_count": 8,
   "id": "823dd4ee",
   "metadata": {},
   "outputs": [
    {
     "name": "stdout",
     "output_type": "stream",
     "text": [
      "Round the value upto 1 digits after the decimal: 3.1\n",
      "Round the value upto 2 digits after the decimal: 3.14\n",
      "Round the value upto 3 digits after the decimal: 3.143\n"
     ]
    }
   ],
   "source": [
    "a = 22 / 7\n",
    "\n",
    "print('Round the value upto 1 digits after the decimal:', round(a, 1))\n",
    "print('Round the value upto 2 digits after the decimal:', round(a, 2))\n",
    "print('Round the value upto 3 digits after the decimal:', round(a, 3))"
   ]
  },
  {
   "cell_type": "markdown",
   "id": "31c5dfe9",
   "metadata": {},
   "source": [
    "### divmod fun()"
   ]
  },
  {
   "cell_type": "code",
   "execution_count": 9,
   "id": "a73f28f8",
   "metadata": {},
   "outputs": [
    {
     "data": {
      "text/plain": [
       "(2, 1)"
      ]
     },
     "execution_count": 9,
     "metadata": {},
     "output_type": "execute_result"
    }
   ],
   "source": [
    "divmod(5, 2)"
   ]
  },
  {
   "cell_type": "markdown",
   "id": "3a0ad6f5",
   "metadata": {},
   "source": [
    "### id fun()"
   ]
  },
  {
   "cell_type": "code",
   "execution_count": 10,
   "id": "a951fc99",
   "metadata": {},
   "outputs": [
    {
     "data": {
      "text/plain": [
       "131254805141872"
      ]
     },
     "execution_count": 10,
     "metadata": {},
     "output_type": "execute_result"
    }
   ],
   "source": [
    "name = 'sam'\n",
    "id(name)"
   ]
  },
  {
   "cell_type": "markdown",
   "id": "a8348b16",
   "metadata": {},
   "source": [
    "### bin / oct / hex fun()"
   ]
  },
  {
   "cell_type": "code",
   "execution_count": 11,
   "id": "79cac196",
   "metadata": {},
   "outputs": [
    {
     "name": "stdout",
     "output_type": "stream",
     "text": [
      "binary value of 4: 0b100, \n",
      "octal value of 4: 0o4, \n",
      "hexadecimal value of 4: 0x4\n"
     ]
    }
   ],
   "source": [
    "print(f'''binary value of 4: {bin(4)}, \n",
    "octal value of 4: {oct(4)}, \n",
    "hexadecimal value of 4: {hex(4)}''')"
   ]
  },
  {
   "cell_type": "markdown",
   "id": "8ef1b452",
   "metadata": {},
   "source": [
    "### ord fun()"
   ]
  },
  {
   "cell_type": "code",
   "execution_count": 12,
   "id": "88a034dd",
   "metadata": {},
   "outputs": [
    {
     "data": {
      "text/plain": [
       "65"
      ]
     },
     "execution_count": 12,
     "metadata": {},
     "output_type": "execute_result"
    }
   ],
   "source": [
    "ord('A') # order fun() returns ASCII value of any given values."
   ]
  },
  {
   "cell_type": "markdown",
   "id": "bcd71bcb",
   "metadata": {},
   "source": [
    "### len fun()"
   ]
  },
  {
   "cell_type": "code",
   "execution_count": 13,
   "id": "840885e3",
   "metadata": {},
   "outputs": [
    {
     "data": {
      "text/plain": [
       "6"
      ]
     },
     "execution_count": 13,
     "metadata": {},
     "output_type": "execute_result"
    }
   ],
   "source": [
    "len('Mumbai')"
   ]
  },
  {
   "cell_type": "markdown",
   "id": "c11e3f17",
   "metadata": {},
   "source": [
    "### sum fun()"
   ]
  },
  {
   "cell_type": "code",
   "execution_count": 14,
   "id": "b4099fa9",
   "metadata": {},
   "outputs": [
    {
     "data": {
      "text/plain": [
       "10"
      ]
     },
     "execution_count": 14,
     "metadata": {},
     "output_type": "execute_result"
    }
   ],
   "source": [
    "sum([1, 2, 3, 4])"
   ]
  },
  {
   "cell_type": "markdown",
   "id": "93530ba1",
   "metadata": {},
   "source": [
    "### help fun()"
   ]
  },
  {
   "cell_type": "code",
   "execution_count": 15,
   "id": "70ea9fda",
   "metadata": {},
   "outputs": [
    {
     "name": "stdout",
     "output_type": "stream",
     "text": [
      "Help on built-in function print in module builtins:\n",
      "\n",
      "print(...)\n",
      "    print(value, ..., sep=' ', end='\\n', file=sys.stdout, flush=False)\n",
      "    \n",
      "    Prints the values to a stream, or to sys.stdout by default.\n",
      "    Optional keyword arguments:\n",
      "    file:  a file-like object (stream); defaults to the current sys.stdout.\n",
      "    sep:   string inserted between values, default a space.\n",
      "    end:   string appended after the last value, default a newline.\n",
      "    flush: whether to forcibly flush the stream.\n",
      "\n"
     ]
    }
   ],
   "source": [
    "help('print')"
   ]
  },
  {
   "cell_type": "code",
   "execution_count": null,
   "id": "1eaccca4",
   "metadata": {},
   "outputs": [],
   "source": []
  }
 ],
 "metadata": {
  "kernelspec": {
   "display_name": "Python 3 (ipykernel)",
   "language": "python",
   "name": "python3"
  },
  "language_info": {
   "codemirror_mode": {
    "name": "ipython",
    "version": 3
   },
   "file_extension": ".py",
   "mimetype": "text/x-python",
   "name": "python",
   "nbconvert_exporter": "python",
   "pygments_lexer": "ipython3",
   "version": "3.10.12"
  }
 },
 "nbformat": 4,
 "nbformat_minor": 5
}
