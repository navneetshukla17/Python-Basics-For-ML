{
 "cells": [
  {
   "cell_type": "code",
   "execution_count": 65,
   "id": "6b7fd423",
   "metadata": {},
   "outputs": [],
   "source": [
    "def is_even(number):\n",
    "    # docstring about the function\n",
    "    \"\"\"\n",
    "    This functions tell if a given number is Even OR Odd.\n",
    "    Input: any valid integer\n",
    "    Output: Odd/Even\n",
    "    Created by: Tushar\n",
    "    Last edited: 4-April-2024\n",
    "    \"\"\"\n",
    "    # body of function\n",
    "    if number % 2 == 0:\n",
    "        return 'Even'\n",
    "    else:\n",
    "        return 'Odd'"
   ]
  },
  {
   "cell_type": "code",
   "execution_count": 34,
   "id": "0e9e1d1e",
   "metadata": {},
   "outputs": [],
   "source": [
    "for i in range(1, 11):\n",
    "    print(is_even(i))"
   ]
  },
  {
   "cell_type": "code",
   "execution_count": 35,
   "id": "4411df8b",
   "metadata": {},
   "outputs": [],
   "source": [
    "def is_even(number):\n",
    "    if number % 2 == 0:\n",
    "        return 'Even'\n",
    "    else:\n",
    "        return 'Odd'\n",
    "\n",
    "\n",
    "print(is_even(4))"
   ]
  },
  {
   "cell_type": "markdown",
   "id": "1e5aa3dd",
   "metadata": {},
   "source": [
    "### Types of argument\n",
    "   \n",
    "   - Default argument\n",
    "   - Positional argumnet\n",
    "   - keyword argument\n",
    "   - arbitary argument / special argument"
   ]
  },
  {
   "cell_type": "markdown",
   "id": "7a534739",
   "metadata": {},
   "source": [
    "### function without using default argument"
   ]
  },
  {
   "cell_type": "code",
   "execution_count": 36,
   "id": "1ec31340",
   "metadata": {},
   "outputs": [],
   "source": [
    "def power(a, b):\n",
    "    return a**b"
   ]
  },
  {
   "cell_type": "code",
   "execution_count": 37,
   "id": "99bb796c",
   "metadata": {},
   "outputs": [],
   "source": [
    "power(2, 3)"
   ]
  },
  {
   "cell_type": "code",
   "execution_count": 38,
   "id": "b13136e8",
   "metadata": {},
   "outputs": [],
   "source": [
    "# power(2)\n",
    "# this code will give us error \n",
    "# because power func() required two parameters to calculate power."
   ]
  },
  {
   "cell_type": "code",
   "execution_count": 39,
   "id": "4a45f53b",
   "metadata": {},
   "outputs": [],
   "source": [
    "#power() # this code also will give error \n",
    "# because power func()  required two parameters to calculate power."
   ]
  },
  {
   "cell_type": "markdown",
   "id": "98f80e95",
   "metadata": {},
   "source": [
    "- To prevent such behaviour, we are going to use 'DEFAULT ARGUMENT'"
   ]
  },
  {
   "cell_type": "markdown",
   "id": "c3881ec7",
   "metadata": {},
   "source": [
    "### Default argument\n",
    "\n",
    "- Default argument is a method of defining functions by giving default value to the arguments"
   ]
  },
  {
   "cell_type": "code",
   "execution_count": 40,
   "id": "2849d6e7",
   "metadata": {},
   "outputs": [],
   "source": [
    "def power_with_default_argument(a=1, b=1):\n",
    "    \"\"\"This function is an upgrade of previoulsy defined power func(),\n",
    "    in this function we have given default values to the argument (a, b)\n",
    "    by doing this our function is less likely to crash like previous versions\n",
    "    Created by: Tushar\n",
    "    Last edited: 8-April-2024\n",
    "    \"\"\"\n",
    "    \n",
    "    return a**b"
   ]
  },
  {
   "cell_type": "code",
   "execution_count": 41,
   "id": "f1e6ce93",
   "metadata": {},
   "outputs": [],
   "source": [
    "# Now, this code will not result in error.\n",
    "power_with_default_argument(2) \n",
    "power_with_default_argument()"
   ]
  },
  {
   "cell_type": "markdown",
   "id": "eb0a725e",
   "metadata": {},
   "source": [
    "### Positional arguments\n",
    "\n",
    "- positional arguments is method of definig functions with arguments in specific position."
   ]
  },
  {
   "cell_type": "code",
   "execution_count": 42,
   "id": "526f5904",
   "metadata": {},
   "outputs": [],
   "source": [
    "def power(a, b):\n",
    "    return a**b\n",
    "\n",
    "power(2, 3) # Here a=2 & b=3 this positons of values are defined by postional arguments, \n",
    "# while defing the function."
   ]
  },
  {
   "cell_type": "markdown",
   "id": "fc0cf947",
   "metadata": {},
   "source": [
    "### Keyword arguments"
   ]
  },
  {
   "cell_type": "markdown",
   "id": "11519409",
   "metadata": {},
   "source": [
    "- Keyword arguments are generaly used while calling the function by directly giving values to parameter without following the order of positional arguments.\n",
    "\n",
    "NOTE: Keyword arguemnts overwrites postional arguments."
   ]
  },
  {
   "cell_type": "code",
   "execution_count": 43,
   "id": "bf8f57fd",
   "metadata": {},
   "outputs": [],
   "source": [
    "def power_with_keyword_arguments(a=1, b=1):\n",
    "    \"\"\"\n",
    "    This function is going to be called by 'Keyword Arguments.'\n",
    "    \"\"\"\n",
    "    \n",
    "    return a**b"
   ]
  },
  {
   "cell_type": "code",
   "execution_count": 44,
   "id": "b2dc9684",
   "metadata": {},
   "outputs": [],
   "source": [
    "power_with_keyword_arguments(b=3, a=2)"
   ]
  },
  {
   "cell_type": "markdown",
   "id": "6d86a73c",
   "metadata": {},
   "source": [
    "### Arbitary arguments OR Special argument\n",
    "\n",
    "- Arbitary arguemnt also called as Special argument because it can take n number of parameters and it is flexible in terms of  accepting inputs in functions\n",
    "\n",
    "\n",
    "- Arbitary arguments are defined by: '*' "
   ]
  },
  {
   "cell_type": "code",
   "execution_count": 66,
   "id": "508498c1",
   "metadata": {},
   "outputs": [],
   "source": [
    "def flexi(*number):\n",
    "    \"\"\"\n",
    "    This function accepts n number of parameters and calculate its product\n",
    "    Input: Integer Positive OR Negative\n",
    "    Output: Product of n Inputs\n",
    "    Created by: Tushar\n",
    "    Last Edited: 8-April-2024\n",
    "    \"\"\"\n",
    "    \n",
    "    product = 1\n",
    "    \n",
    "    for i in number:\n",
    "        product = product * i\n",
    "    # print(number)\n",
    "    return product"
   ]
  },
  {
   "cell_type": "code",
   "execution_count": 46,
   "id": "95fdbfd6",
   "metadata": {},
   "outputs": [],
   "source": [
    "flexi(1, 2, 3, 4, 5)"
   ]
  },
  {
   "cell_type": "markdown",
   "id": "09ae8f30",
   "metadata": {},
   "source": [
    "### Global variable Vs Local variable\n",
    "\n",
    "- Global Variable:  When a variable is defined in main program OR outside the function, then it is known as 'Gloabl Variable'.\n",
    "\n",
    "- Local Variable:  When a varialbe is defined inside the function then it is functions specific varibale, hence it is called as 'Local Variable'."
   ]
  },
  {
   "cell_type": "code",
   "execution_count": 47,
   "id": "a8bc3955",
   "metadata": {},
   "outputs": [],
   "source": [
    "# example of global variable\n",
    "x = 4\n",
    "x += 1\n",
    "print(x)\n",
    "\n",
    "def test():\n",
    "    return 'inside test_func'"
   ]
  },
  {
   "cell_type": "code",
   "execution_count": 48,
   "id": "f44b71b6",
   "metadata": {},
   "outputs": [],
   "source": [
    "# example of local variable\n",
    "def y():\n",
    "    x = 14 # this variable x is defined inside the function, hence it is local variable.\n",
    "    x += 1\n",
    "    return x\n",
    "\n",
    "y()"
   ]
  },
  {
   "cell_type": "code",
   "execution_count": 49,
   "id": "4c0bcf98",
   "metadata": {},
   "outputs": [],
   "source": [
    "def g(y):\n",
    "    print(x)\n",
    "    print(x+1)\n",
    "\n",
    "x = 4\n",
    "g(x)\n",
    "print(x)"
   ]
  },
  {
   "cell_type": "code",
   "execution_count": 50,
   "id": "67fbad94",
   "metadata": {},
   "outputs": [],
   "source": [
    "def h(y):\n",
    "    # x += 1 # leads to an error, because you are trying to change \n",
    "    #the value of global variable from inside a function (which is not allowed)\n",
    "    # you can use the global variable from inside a function but, can not make changes in it\n",
    "    print(x)\n",
    "    \n",
    "x = 5\n",
    "h(x)\n",
    "print(x)"
   ]
  },
  {
   "cell_type": "code",
   "execution_count": 51,
   "id": "df928d89",
   "metadata": {},
   "outputs": [],
   "source": [
    "x = 10\n",
    "\n",
    "# 1st function\n",
    "def test(y):\n",
    "    print(x) # using the global varibale without trying to change it.\n",
    "    print(x+1)\n",
    "\n",
    "test(x)\n",
    "print(x)\n",
    "\n",
    "# 2nd function\n",
    "def test_new(a):\n",
    "    print(x)\n",
    "    print(x+2)\n",
    "\n",
    "test_new(x)\n",
    "print(x)"
   ]
  },
  {
   "cell_type": "code",
   "execution_count": 52,
   "id": "0188b160",
   "metadata": {},
   "outputs": [],
   "source": [
    "def f(x):\n",
    "    x = x + 1\n",
    "    print('in f(x): x =', x)\n",
    "    return x\n",
    "\n",
    "\n",
    "x = 3\n",
    "z = f(x)\n",
    "print('in main program scope: z =', z)\n",
    "print('in main program scope: x =', x)"
   ]
  },
  {
   "cell_type": "markdown",
   "id": "08627ff5",
   "metadata": {},
   "source": [
    "### Nested Functions / Hidden functions"
   ]
  },
  {
   "cell_type": "code",
   "execution_count": 67,
   "id": "c2175a1a",
   "metadata": {},
   "outputs": [],
   "source": [
    "def f():\n",
    "    print('Inside f')\n",
    "    def g(): # this function is hidden from the main program\n",
    "        print('Inside g')\n",
    "    g()\n",
    "    \n",
    "f()"
   ]
  },
  {
   "cell_type": "code",
   "execution_count": 54,
   "id": "bad84f1a",
   "metadata": {},
   "outputs": [],
   "source": [
    "# def f():\n",
    "#     print('Inside f')\n",
    "#     def g(): # this function is hidden from main program\n",
    "#         print('Inside g')\n",
    "#         f() # this code will result in error because you are creating an infinte loop.\n",
    "#     g()\n",
    "    \n",
    "# f()"
   ]
  },
  {
   "cell_type": "code",
   "execution_count": 55,
   "id": "a43a75f7",
   "metadata": {},
   "outputs": [],
   "source": [
    "def g(x):\n",
    "    def h():\n",
    "        x = 'abc'\n",
    "    x = x + 1\n",
    "    print('In g(x): x =', x)\n",
    "    h()\n",
    "    return x\n",
    "\n",
    "x = 3\n",
    "z = g(x)"
   ]
  },
  {
   "cell_type": "code",
   "execution_count": 56,
   "id": "9c016325",
   "metadata": {},
   "outputs": [],
   "source": [
    "def g(x):\n",
    "    def h(x):\n",
    "        x = x + 1\n",
    "        print('In h(x): x =', x)\n",
    "    x = x + 1\n",
    "    print('In g(x): x =', x)\n",
    "    h(x)\n",
    "    return x\n",
    "\n",
    "x = 3\n",
    "z = g(x)\n",
    "print('In main program scope: x =', x)\n",
    "print('In main program scope: z =', z)"
   ]
  },
  {
   "cell_type": "markdown",
   "id": "7ac5bc9d",
   "metadata": {},
   "source": [
    "### giving function as an input to another function"
   ]
  },
  {
   "cell_type": "code",
   "execution_count": 57,
   "id": "797a3bcb",
   "metadata": {},
   "outputs": [],
   "source": [
    "def func_a():\n",
    "    print('Inside function a')\n",
    "\n",
    "def func_c(z):\n",
    "    print('Inside function c')\n",
    "    return z()\n",
    "\n",
    "print(func_c(func_a))"
   ]
  },
  {
   "cell_type": "markdown",
   "id": "e8098da1",
   "metadata": {},
   "source": [
    "### Everything in python is an object."
   ]
  },
  {
   "cell_type": "code",
   "execution_count": 58,
   "id": "090d7800",
   "metadata": {},
   "outputs": [],
   "source": [
    "def sqr(num):\n",
    "    \"\"\"\n",
    "    This function returns square of numbers\n",
    "    Input: any valid integer\n",
    "    Output: square of integer provided\n",
    "    Created By: Tushar\n",
    "    Last Edited: 10-April-2024\n",
    "    \"\"\"\n",
    "    return num**2\n",
    "\n",
    "sqr(3)"
   ]
  },
  {
   "cell_type": "code",
   "execution_count": 59,
   "id": "191613f9",
   "metadata": {},
   "outputs": [],
   "source": [
    "# storing function sqr in variable x\n",
    "x = sqr"
   ]
  },
  {
   "cell_type": "code",
   "execution_count": 60,
   "id": "0862f665",
   "metadata": {},
   "outputs": [],
   "source": [
    "x(4) # this x will now works as a function"
   ]
  },
  {
   "cell_type": "code",
   "execution_count": 61,
   "id": "183709eb",
   "metadata": {},
   "outputs": [],
   "source": [
    "# creating a list a storing x inside it along with other data types\n",
    "L = [1, 2, 3, 4, x]"
   ]
  },
  {
   "cell_type": "code",
   "execution_count": 62,
   "id": "43219280",
   "metadata": {},
   "outputs": [],
   "source": [
    "L[-1](2) # calling"
   ]
  },
  {
   "cell_type": "markdown",
   "id": "9cc6d24b",
   "metadata": {},
   "source": [
    "### nested calling of function"
   ]
  },
  {
   "cell_type": "code",
   "execution_count": 64,
   "id": "0a138c87",
   "metadata": {},
   "outputs": [],
   "source": [
    "def f():\n",
    "    def x(a, b):\n",
    "        return a+b\n",
    "    return x\n",
    "\n",
    "val = f()(3, 4)\n",
    "print(val)"
   ]
  },
  {
   "cell_type": "code",
   "execution_count": null,
   "id": "5a51c5e9",
   "metadata": {},
   "outputs": [],
   "source": []
  }
 ],
 "metadata": {
  "kernelspec": {
   "display_name": "Python 3 (ipykernel)",
   "language": "python",
   "name": "python3"
  },
  "language_info": {
   "codemirror_mode": {
    "name": "ipython",
    "version": 3
   },
   "file_extension": ".py",
   "mimetype": "text/x-python",
   "name": "python",
   "nbconvert_exporter": "python",
   "pygments_lexer": "ipython3",
   "version": "3.10.12"
  }
 },
 "nbformat": 4,
 "nbformat_minor": 5
}
