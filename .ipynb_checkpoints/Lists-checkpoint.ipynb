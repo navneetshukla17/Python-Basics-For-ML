{
 "cells": [
  {
   "cell_type": "markdown",
   "id": "b7b6bdd8",
   "metadata": {},
   "source": [
    "1. What is List\n",
    "2. Array Vs List\n",
    "3. Create List\n",
    "4. Edit List\n",
    "5. Delete List\n",
    "6. Operations on List\n",
    "7. Functions of List"
   ]
  },
  {
   "cell_type": "markdown",
   "id": "f80bfed8",
   "metadata": {},
   "source": [
    "1. What Is List: List is a datatype where multiple items can be stored at once."
   ]
  },
  {
   "cell_type": "markdown",
   "id": "dce756e4",
   "metadata": {},
   "source": [
    "2. Array Vs List: \n",
    "    \n",
    "    ARRAY:\n",
    "    - Arrays are Homogenous(it stores items of same type)\n",
    "    - Array store items on after another at same location, Hence making it fast for accessing items inside it.\n",
    "    - Array are not programmer friendly\n",
    "    \n",
    "    LIST:\n",
    "    - Lists are Hetrogenous (It can store different types of items)\n",
    "    - List sotre items on different memory, Hence making accessing slow as compared to array\n",
    "    - Lists are programmer friendly\n",
    "    "
   ]
  },
  {
   "cell_type": "markdown",
   "id": "517030cc",
   "metadata": {},
   "source": [
    "## Create List"
   ]
  },
  {
   "cell_type": "code",
   "execution_count": 18,
   "id": "0981f2c3",
   "metadata": {},
   "outputs": [],
   "source": [
    "# 1D Lists\n",
    "l = [] # empty list\n",
    "l1 = [1, 2, 3, 4, 5] # Homogenous list\n",
    "l2 = ['Hello', 4, 5.6, True, (5 + 6j)] # Hetrogenous list"
   ]
  },
  {
   "cell_type": "code",
   "execution_count": 19,
   "id": "6a63be2f",
   "metadata": {},
   "outputs": [],
   "source": [
    "# multi-dimensional list\n",
    "_2D_list = [1, 2, 3, [4, 5]]\n",
    "_3D_list = [[[1, 2], [3, 4]], [[5, 6], [7, 8]]]"
   ]
  },
  {
   "cell_type": "code",
   "execution_count": 20,
   "id": "bb277f56",
   "metadata": {},
   "outputs": [
    {
     "data": {
      "text/plain": [
       "[1, 2, 3, [4, 5]]"
      ]
     },
     "execution_count": 20,
     "metadata": {},
     "output_type": "execute_result"
    }
   ],
   "source": [
    "_2D_list"
   ]
  },
  {
   "cell_type": "code",
   "execution_count": 21,
   "id": "6c72431e",
   "metadata": {},
   "outputs": [
    {
     "data": {
      "text/plain": [
       "[[[1, 2], [3, 4]], [[5, 6], [7, 8]]]"
      ]
     },
     "execution_count": 21,
     "metadata": {},
     "output_type": "execute_result"
    }
   ],
   "source": [
    "_3D_list"
   ]
  },
  {
   "cell_type": "code",
   "execution_count": 22,
   "id": "0d5c4e3f",
   "metadata": {},
   "outputs": [],
   "source": [
    "l3 = list('Haldia')"
   ]
  },
  {
   "cell_type": "code",
   "execution_count": 23,
   "id": "2dd0707b",
   "metadata": {},
   "outputs": [
    {
     "data": {
      "text/plain": [
       "['H', 'a', 'l', 'd', 'i', 'a']"
      ]
     },
     "execution_count": 23,
     "metadata": {},
     "output_type": "execute_result"
    }
   ],
   "source": [
    "l3"
   ]
  },
  {
   "cell_type": "code",
   "execution_count": 24,
   "id": "aaa1c876",
   "metadata": {},
   "outputs": [
    {
     "name": "stdout",
     "output_type": "stream",
     "text": [
      "[1, 2, 3, 4, 5]\n"
     ]
    }
   ],
   "source": [
    "print(l1)"
   ]
  },
  {
   "cell_type": "code",
   "execution_count": 25,
   "id": "fcaad4e7",
   "metadata": {},
   "outputs": [
    {
     "data": {
      "text/plain": [
       "1"
      ]
     },
     "execution_count": 25,
     "metadata": {},
     "output_type": "execute_result"
    }
   ],
   "source": [
    "l1[0]"
   ]
  },
  {
   "cell_type": "code",
   "execution_count": 26,
   "id": "7e022385",
   "metadata": {},
   "outputs": [
    {
     "data": {
      "text/plain": [
       "5"
      ]
     },
     "execution_count": 26,
     "metadata": {},
     "output_type": "execute_result"
    }
   ],
   "source": [
    "l1[-1]"
   ]
  },
  {
   "cell_type": "code",
   "execution_count": 27,
   "id": "f2015b43",
   "metadata": {},
   "outputs": [
    {
     "data": {
      "text/plain": [
       "[5, 4, 3, 2, 1]"
      ]
     },
     "execution_count": 27,
     "metadata": {},
     "output_type": "execute_result"
    }
   ],
   "source": [
    "l1[::-1]"
   ]
  },
  {
   "cell_type": "code",
   "execution_count": 28,
   "id": "4266e264",
   "metadata": {},
   "outputs": [
    {
     "name": "stdout",
     "output_type": "stream",
     "text": [
      "5\n"
     ]
    }
   ],
   "source": [
    "print(_2D_list[-1][1])"
   ]
  },
  {
   "cell_type": "code",
   "execution_count": 29,
   "id": "5f19d6b9",
   "metadata": {},
   "outputs": [
    {
     "name": "stdout",
     "output_type": "stream",
     "text": [
      "[[[1, 2], [3, 4]], [[5, 6], [7, 8]]]\n"
     ]
    }
   ],
   "source": [
    "print(_3D_list)"
   ]
  },
  {
   "cell_type": "code",
   "execution_count": 30,
   "id": "22b3cb34",
   "metadata": {},
   "outputs": [
    {
     "name": "stdout",
     "output_type": "stream",
     "text": [
      "7\n"
     ]
    }
   ],
   "source": [
    "print(_3D_list[1][1][0])"
   ]
  },
  {
   "cell_type": "markdown",
   "id": "e50dcdfa",
   "metadata": {},
   "source": [
    "## Edit List \n",
    "LISTS are mutable in Python."
   ]
  },
  {
   "cell_type": "code",
   "execution_count": 31,
   "id": "d4f1963d",
   "metadata": {},
   "outputs": [
    {
     "name": "stdout",
     "output_type": "stream",
     "text": [
      "[1, 2, 3, 4, 5]\n"
     ]
    }
   ],
   "source": [
    "print(l1)"
   ]
  },
  {
   "cell_type": "code",
   "execution_count": 32,
   "id": "90a52e61",
   "metadata": {},
   "outputs": [],
   "source": [
    "l1[0] = 100\n",
    "l1[-1] = 500"
   ]
  },
  {
   "cell_type": "code",
   "execution_count": 33,
   "id": "b25f1b6c",
   "metadata": {},
   "outputs": [
    {
     "name": "stdout",
     "output_type": "stream",
     "text": [
      "[100, 2, 3, 4, 500]\n"
     ]
    }
   ],
   "source": [
    "print(l1)"
   ]
  },
  {
   "cell_type": "code",
   "execution_count": 34,
   "id": "35717359",
   "metadata": {},
   "outputs": [],
   "source": [
    "l1[1:4] = [200, 300, 400]"
   ]
  },
  {
   "cell_type": "code",
   "execution_count": 35,
   "id": "74e5fd59",
   "metadata": {},
   "outputs": [
    {
     "data": {
      "text/plain": [
       "[100, 200, 300, 400, 500]"
      ]
     },
     "execution_count": 35,
     "metadata": {},
     "output_type": "execute_result"
    }
   ],
   "source": [
    "l1"
   ]
  },
  {
   "cell_type": "code",
   "execution_count": 36,
   "id": "b92c39da",
   "metadata": {},
   "outputs": [],
   "source": [
    "l1[0:3:2] = [1000, 3000]"
   ]
  },
  {
   "cell_type": "code",
   "execution_count": 37,
   "id": "1d7b7521",
   "metadata": {},
   "outputs": [
    {
     "name": "stdout",
     "output_type": "stream",
     "text": [
      "[1000, 200, 3000, 400, 500]\n"
     ]
    }
   ],
   "source": [
    "print(l1)"
   ]
  },
  {
   "cell_type": "markdown",
   "id": "a46fd8d0",
   "metadata": {},
   "source": [
    "## Adding elements to the list\n",
    "\n",
    "There are multiple ways to add elements inside the list.\n",
    "    \n",
    "    - append()\n",
    "    - extend()\n",
    "    - insert()"
   ]
  },
  {
   "cell_type": "code",
   "execution_count": 38,
   "id": "bc2b49f9",
   "metadata": {},
   "outputs": [],
   "source": [
    "# append() will allways insert 'single item' into the list, at 'end position'.\n",
    "lst = [1, 2, 3, 4]"
   ]
  },
  {
   "cell_type": "code",
   "execution_count": 39,
   "id": "e1cdc8ca",
   "metadata": {},
   "outputs": [],
   "source": [
    "lst.append(5)"
   ]
  },
  {
   "cell_type": "code",
   "execution_count": 40,
   "id": "bc29ca59",
   "metadata": {},
   "outputs": [
    {
     "name": "stdout",
     "output_type": "stream",
     "text": [
      "[1, 2, 3, 4, 5]\n"
     ]
    }
   ],
   "source": [
    "print(lst)"
   ]
  },
  {
   "cell_type": "code",
   "execution_count": 41,
   "id": "d5ce3112",
   "metadata": {},
   "outputs": [],
   "source": [
    "# extend() will allways insert 'multiple items' into the list at 'end position'.\n",
    "lst.extend([6, 7, 8])"
   ]
  },
  {
   "cell_type": "code",
   "execution_count": 42,
   "id": "4fc741c8",
   "metadata": {},
   "outputs": [
    {
     "name": "stdout",
     "output_type": "stream",
     "text": [
      "[1, 2, 3, 4, 5, 6, 7, 8]\n"
     ]
    }
   ],
   "source": [
    "print(lst)"
   ]
  },
  {
   "cell_type": "code",
   "execution_count": 43,
   "id": "170a5399",
   "metadata": {},
   "outputs": [
    {
     "name": "stdout",
     "output_type": "stream",
     "text": [
      "[[[1, 2], [3, 4]], [[5, 6], [7, 8]]]\n"
     ]
    }
   ],
   "source": [
    "print(_3D_list)"
   ]
  },
  {
   "cell_type": "code",
   "execution_count": 44,
   "id": "3b41a1f1",
   "metadata": {},
   "outputs": [
    {
     "name": "stdout",
     "output_type": "stream",
     "text": [
      "[[1, 2], [3, 4]]\n",
      "[[5, 6], [7, 8]]\n"
     ]
    }
   ],
   "source": [
    "for i in _3D_list:\n",
    "    print(i)"
   ]
  },
  {
   "cell_type": "markdown",
   "id": "a9619dc6",
   "metadata": {},
   "source": [
    "## List Operations"
   ]
  },
  {
   "cell_type": "markdown",
   "id": "2e3fdb9c",
   "metadata": {},
   "source": [
    "- Concatination\n",
    "- multiplication\n",
    "- loops\n",
    "- membership"
   ]
  },
  {
   "cell_type": "code",
   "execution_count": 45,
   "id": "d607331a",
   "metadata": {},
   "outputs": [],
   "source": [
    "# Concatination\n",
    "lst_1 = [1, 2, 3]\n",
    "lst_2 = [4, 5, 6]"
   ]
  },
  {
   "cell_type": "code",
   "execution_count": 46,
   "id": "fb41e5a5",
   "metadata": {},
   "outputs": [
    {
     "name": "stdout",
     "output_type": "stream",
     "text": [
      "[1, 2, 3, 4, 5, 6]\n"
     ]
    }
   ],
   "source": [
    "print(lst_1 + lst_2)"
   ]
  },
  {
   "cell_type": "code",
   "execution_count": 47,
   "id": "a915a474",
   "metadata": {},
   "outputs": [
    {
     "name": "stdout",
     "output_type": "stream",
     "text": [
      "[1, 2, 3, 1, 2, 3, 1, 2, 3]\n"
     ]
    }
   ],
   "source": [
    "# multiplication\n",
    "print(lst_1 * 3)"
   ]
  },
  {
   "cell_type": "code",
   "execution_count": 48,
   "id": "8ec08e88",
   "metadata": {},
   "outputs": [
    {
     "name": "stdout",
     "output_type": "stream",
     "text": [
      "1\n",
      "2\n",
      "3\n"
     ]
    }
   ],
   "source": [
    "# loops\n",
    "for i in lst_1:\n",
    "    print(i)"
   ]
  },
  {
   "cell_type": "code",
   "execution_count": 49,
   "id": "05c7aeed",
   "metadata": {},
   "outputs": [
    {
     "data": {
      "text/plain": [
       "(True, False)"
      ]
     },
     "execution_count": 49,
     "metadata": {},
     "output_type": "execute_result"
    }
   ],
   "source": [
    "# membership\n",
    "1 in lst_1, 10 in lst_1"
   ]
  },
  {
   "cell_type": "markdown",
   "id": "22d01f1c",
   "metadata": {},
   "source": [
    "## Functions in List\n",
    "\n",
    "**Most of the string functions are supported by the List.\n",
    "\n",
    "- len()\n",
    "- min() / max()\n",
    "- sorted()\n",
    "- sort(), etc..."
   ]
  },
  {
   "cell_type": "code",
   "execution_count": 50,
   "id": "4962b7cc",
   "metadata": {},
   "outputs": [
    {
     "name": "stdout",
     "output_type": "stream",
     "text": [
      "3\n"
     ]
    }
   ],
   "source": [
    "# len()\n",
    "print(len(lst_1))"
   ]
  },
  {
   "cell_type": "code",
   "execution_count": 51,
   "id": "912f647c",
   "metadata": {},
   "outputs": [
    {
     "name": "stdout",
     "output_type": "stream",
     "text": [
      "1\n",
      "3\n"
     ]
    }
   ],
   "source": [
    "# min(), max()\n",
    "print(min(lst_1))\n",
    "print(max(lst_1))"
   ]
  },
  {
   "cell_type": "code",
   "execution_count": 52,
   "id": "2600ce07",
   "metadata": {},
   "outputs": [],
   "source": [
    "lst_3 = [5, 4, 3, 2, 1]"
   ]
  },
  {
   "cell_type": "code",
   "execution_count": 53,
   "id": "88ce1e95",
   "metadata": {},
   "outputs": [
    {
     "data": {
      "text/plain": [
       "[1, 2, 3, 4, 5]"
      ]
     },
     "execution_count": 53,
     "metadata": {},
     "output_type": "execute_result"
    }
   ],
   "source": [
    "# SORTED() (sorted() is not a permanent operation, \n",
    "#it creates new memorey location for the sorted list)\n",
    "sorted(lst_3)"
   ]
  },
  {
   "cell_type": "code",
   "execution_count": 54,
   "id": "bb3c9f6e",
   "metadata": {},
   "outputs": [
    {
     "data": {
      "text/plain": [
       "[5, 4, 3, 2, 1]"
      ]
     },
     "execution_count": 54,
     "metadata": {},
     "output_type": "execute_result"
    }
   ],
   "source": [
    "lst_3 # as you can see It does not changed the original list."
   ]
  },
  {
   "cell_type": "code",
   "execution_count": 55,
   "id": "83fe73b6",
   "metadata": {},
   "outputs": [],
   "source": [
    "# SORT() (sort() is an permanent operation,\n",
    "# it directly makes changes in the original list).\n",
    "\n",
    "lst_3.sort()"
   ]
  },
  {
   "cell_type": "code",
   "execution_count": 57,
   "id": "8c191c34",
   "metadata": {},
   "outputs": [
    {
     "name": "stdout",
     "output_type": "stream",
     "text": [
      "[1, 2, 3, 4, 5]\n"
     ]
    }
   ],
   "source": [
    "print(lst_3)"
   ]
  },
  {
   "cell_type": "code",
   "execution_count": 60,
   "id": "a8b14271",
   "metadata": {},
   "outputs": [],
   "source": [
    "lst_3.sort(reverse=True)"
   ]
  },
  {
   "cell_type": "code",
   "execution_count": 61,
   "id": "3ad7ef37",
   "metadata": {},
   "outputs": [
    {
     "name": "stdout",
     "output_type": "stream",
     "text": [
      "[5, 4, 3, 2, 1]\n"
     ]
    }
   ],
   "source": [
    "print(lst_3)"
   ]
  },
  {
   "cell_type": "markdown",
   "id": "be06afb1",
   "metadata": {},
   "source": [
    "## Prombles for practice"
   ]
  },
  {
   "cell_type": "code",
   "execution_count": null,
   "id": "62119470",
   "metadata": {},
   "outputs": [],
   "source": [
    "# creating our own title() function.\n",
    "\n",
    "sample_txt = 'hello world'\n"
   ]
  },
  {
   "cell_type": "code",
   "execution_count": 13,
   "id": "4d309a1c",
   "metadata": {},
   "outputs": [],
   "source": [
    "sample = 'i scored 99.67%tile in mca cet.'"
   ]
  },
  {
   "cell_type": "code",
   "execution_count": 14,
   "id": "d84b40d8",
   "metadata": {},
   "outputs": [],
   "source": [
    "l = []"
   ]
  },
  {
   "cell_type": "code",
   "execution_count": 15,
   "id": "fafb0f15",
   "metadata": {},
   "outputs": [],
   "source": [
    "for i in sample.split():\n",
    "    l.append(i.capitalize())"
   ]
  },
  {
   "cell_type": "code",
   "execution_count": 16,
   "id": "536c9c86",
   "metadata": {},
   "outputs": [
    {
     "data": {
      "text/plain": [
       "'I Scored 99.67%tile In Mca Cet.'"
      ]
     },
     "execution_count": 16,
     "metadata": {},
     "output_type": "execute_result"
    }
   ],
   "source": [
    "' '.join(l)"
   ]
  },
  {
   "cell_type": "code",
   "execution_count": 142,
   "id": "4531b32a",
   "metadata": {},
   "outputs": [],
   "source": [
    "email = 'abcianaifna@gmail.com'"
   ]
  },
  {
   "cell_type": "code",
   "execution_count": 143,
   "id": "8fac9e17",
   "metadata": {},
   "outputs": [
    {
     "data": {
      "text/plain": [
       "'abcianaifna'"
      ]
     },
     "execution_count": 143,
     "metadata": {},
     "output_type": "execute_result"
    }
   ],
   "source": [
    "email[:email.find('@')]"
   ]
  },
  {
   "cell_type": "code",
   "execution_count": 159,
   "id": "bab09902",
   "metadata": {},
   "outputs": [],
   "source": [
    "arr = [1, 1, 2, 2, 3, 3, 4, 4]\n",
    "arr_2 = [1, 2, 3, 3, 3, 3, 4, 5, 2, 1]"
   ]
  },
  {
   "cell_type": "code",
   "execution_count": 160,
   "id": "c4df4123",
   "metadata": {},
   "outputs": [],
   "source": [
    "empt_arr = []"
   ]
  },
  {
   "cell_type": "code",
   "execution_count": 161,
   "id": "b08ab0e7",
   "metadata": {},
   "outputs": [
    {
     "name": "stdout",
     "output_type": "stream",
     "text": [
      "[1, 2, 3, 4, 5]\n"
     ]
    }
   ],
   "source": [
    "for i in arr_2:\n",
    "    if i not in empt_arr:\n",
    "        empt_arr.append(i)\n",
    "print(empt_arr)"
   ]
  },
  {
   "cell_type": "code",
   "execution_count": 164,
   "id": "de01152d",
   "metadata": {},
   "outputs": [
    {
     "name": "stdout",
     "output_type": "stream",
     "text": [
      "True\n",
      "True\n",
      "True\n",
      "True\n",
      "True\n",
      "True\n",
      "True\n",
      "True\n"
     ]
    }
   ],
   "source": [
    "for i in arr:\n",
    "    print(i in empt_arr)"
   ]
  },
  {
   "cell_type": "code",
   "execution_count": 6,
   "id": "82314587",
   "metadata": {},
   "outputs": [
    {
     "name": "stdout",
     "output_type": "stream",
     "text": [
      "['Hello', 'Tushar', 1, 2, 10]\n"
     ]
    }
   ],
   "source": [
    "# Write a program to remove duplicate items from the list.\n",
    "lst = [1, 1, 2, 2, 3, 3, 4, 4, 5, 5]\n",
    "lst_1 = ['Hello', 'Hello', 'Tushar', 'Tushar', 1, 1, 2, 2, 10, 10, True, True]\n",
    "lst_new_1 = []\n",
    "lst_new = []\n",
    "\n",
    "for i in lst_1:\n",
    "    if i not in lst_new_1:\n",
    "        lst_new_1.append(i)\n",
    "print(lst_new_1)"
   ]
  },
  {
   "cell_type": "code",
   "execution_count": null,
   "id": "a58e7b4d",
   "metadata": {},
   "outputs": [],
   "source": []
  }
 ],
 "metadata": {
  "kernelspec": {
   "display_name": "Python 3 (ipykernel)",
   "language": "python",
   "name": "python3"
  },
  "language_info": {
   "codemirror_mode": {
    "name": "ipython",
    "version": 3
   },
   "file_extension": ".py",
   "mimetype": "text/x-python",
   "name": "python",
   "nbconvert_exporter": "python",
   "pygments_lexer": "ipython3",
   "version": "3.10.12"
  }
 },
 "nbformat": 4,
 "nbformat_minor": 5
}
