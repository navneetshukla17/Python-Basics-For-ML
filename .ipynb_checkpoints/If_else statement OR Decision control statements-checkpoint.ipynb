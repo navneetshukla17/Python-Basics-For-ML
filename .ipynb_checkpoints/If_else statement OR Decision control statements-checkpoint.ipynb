{
 "cells": [
  {
   "cell_type": "code",
   "execution_count": 34,
   "id": "952400db",
   "metadata": {},
   "outputs": [],
   "source": [
    "import getpass as gt"
   ]
  },
  {
   "cell_type": "code",
   "execution_count": 35,
   "id": "a3854672",
   "metadata": {},
   "outputs": [
    {
     "name": "stdout",
     "output_type": "stream",
     "text": [
      "Enter your email: tusha@\n",
      "Enter your password: ········\n",
      "Invalid email OR password\n"
     ]
    }
   ],
   "source": [
    "usr_email = input('Enter your email: ')\n",
    "\n",
    "if '@' in usr_email:\n",
    "    usr_pass = gt.getpass('Enter your password: ')\n",
    "    if usr_email == 'tusharshukla@gmail.com' and usr_pass == 'ab de 17':\n",
    "        print('Welcome Back')\n",
    "    elif usr_email == 'tusharshukla@gmail.com' and usr_pass != 'ab de 17':\n",
    "        print('password is Incorrect!!')\n",
    "        usr_pass = gt.getpass('Enter the correct password: ')\n",
    "        if usr_pass == 'ab de 17':\n",
    "            print('Welcome Back')\n",
    "        else:\n",
    "            print('Session timeout!!')\n",
    "    else:\n",
    "        print('Invalid email OR password')\n",
    "else:\n",
    "    print('Enter correct email id to proceed further')"
   ]
  },
  {
   "cell_type": "code",
   "execution_count": null,
   "id": "65709d81",
   "metadata": {},
   "outputs": [],
   "source": []
  }
 ],
 "metadata": {
  "kernelspec": {
   "display_name": "Python 3 (ipykernel)",
   "language": "python",
   "name": "python3"
  },
  "language_info": {
   "codemirror_mode": {
    "name": "ipython",
    "version": 3
   },
   "file_extension": ".py",
   "mimetype": "text/x-python",
   "name": "python",
   "nbconvert_exporter": "python",
   "pygments_lexer": "ipython3",
   "version": "3.10.12"
  }
 },
 "nbformat": 4,
 "nbformat_minor": 5
}
