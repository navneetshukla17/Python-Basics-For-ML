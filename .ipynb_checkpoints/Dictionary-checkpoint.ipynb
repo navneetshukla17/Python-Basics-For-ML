{
 "cells": [
  {
   "cell_type": "markdown",
   "id": "00195149",
   "metadata": {},
   "source": [
    "- Create\n",
    "- Access\n",
    "- Edit\n",
    "- Delete\n",
    "- Operations\n",
    "- Functions"
   ]
  },
  {
   "cell_type": "markdown",
   "id": "d753c8a6",
   "metadata": {},
   "source": [
    "### CREATE"
   ]
  },
  {
   "cell_type": "code",
   "execution_count": 26,
   "id": "ee4b9be9",
   "metadata": {},
   "outputs": [],
   "source": [
    "D = {} # an empty dictionary"
   ]
  },
  {
   "cell_type": "code",
   "execution_count": 27,
   "id": "55f3ac37",
   "metadata": {},
   "outputs": [],
   "source": [
    "D1 = {'Name': 'Tushar', 'Age': 22, 'Collage': 'VJTI'} # an normal dictionary"
   ]
  },
  {
   "cell_type": "code",
   "execution_count": 28,
   "id": "aa1f68fc",
   "metadata": {},
   "outputs": [],
   "source": [
    "# D2 = {[1, 2, 3]: 'Sam'} # dictinoaries do not accept mutable datatypes."
   ]
  },
  {
   "cell_type": "code",
   "execution_count": 29,
   "id": "e5b23589",
   "metadata": {},
   "outputs": [],
   "source": [
    "D3 = {(1, 2, 3):'Sam'} # We repalced list with tuple and tuple is immutable datatype, \n",
    "# Hence dictionary accepted it."
   ]
  },
  {
   "cell_type": "code",
   "execution_count": 30,
   "id": "8172760f",
   "metadata": {},
   "outputs": [],
   "source": [
    "# It allways accepts recent values\n",
    "D3 = {'Name': 'Tushar', 'Name': 'Navneet', 'Name':'Rahul'} "
   ]
  },
  {
   "cell_type": "code",
   "execution_count": 34,
   "id": "358ca35b",
   "metadata": {},
   "outputs": [],
   "source": [
    "# 2D dictionary\n",
    "D2 = {'Name': 'Sanjay', 'Age':22, 'Marks': {'Eng':50, 'Maths':30, 'Sci':70}}"
   ]
  },
  {
   "cell_type": "code",
   "execution_count": 42,
   "id": "3982d0b5",
   "metadata": {},
   "outputs": [],
   "source": [
    "# 3D dictionary\n",
    "D5 = {'Names':{'Rahul', 'Anuj'}, 'Ages':{20, 21}, 'Total Marks':{98, 88}}"
   ]
  },
  {
   "cell_type": "markdown",
   "id": "ce643e44",
   "metadata": {},
   "source": [
    "- We can also create 2D, 3D and 4D dictionaries."
   ]
  },
  {
   "cell_type": "markdown",
   "id": "805ffa49",
   "metadata": {},
   "source": [
    "### ACCESS"
   ]
  },
  {
   "cell_type": "code",
   "execution_count": 43,
   "id": "7fda877e",
   "metadata": {},
   "outputs": [
    {
     "data": {
      "text/plain": [
       "'Tushar'"
      ]
     },
     "execution_count": 43,
     "metadata": {},
     "output_type": "execute_result"
    }
   ],
   "source": [
    "D1['Name']"
   ]
  },
  {
   "cell_type": "code",
   "execution_count": 44,
   "id": "03e9e414",
   "metadata": {},
   "outputs": [
    {
     "data": {
      "text/plain": [
       "30"
      ]
     },
     "execution_count": 44,
     "metadata": {},
     "output_type": "execute_result"
    }
   ],
   "source": [
    "D2['Marks']['Maths']"
   ]
  },
  {
   "cell_type": "code",
   "execution_count": 50,
   "id": "1fd9f69c",
   "metadata": {},
   "outputs": [
    {
     "data": {
      "text/plain": [
       "{'Anuj', 'Rahul'}"
      ]
     },
     "execution_count": 50,
     "metadata": {},
     "output_type": "execute_result"
    }
   ],
   "source": [
    "D5['Names']"
   ]
  },
  {
   "cell_type": "markdown",
   "id": "c2bc415f",
   "metadata": {},
   "source": [
    "### EDIT"
   ]
  },
  {
   "cell_type": "code",
   "execution_count": 52,
   "id": "f6abeb7f",
   "metadata": {},
   "outputs": [],
   "source": [
    "D1['Name'] = 'Navneet'"
   ]
  },
  {
   "cell_type": "code",
   "execution_count": 53,
   "id": "6a78a776",
   "metadata": {},
   "outputs": [
    {
     "data": {
      "text/plain": [
       "{'Name': 'Navneet', 'Age': 22, 'Collage': 'VJTI'}"
      ]
     },
     "execution_count": 53,
     "metadata": {},
     "output_type": "execute_result"
    }
   ],
   "source": [
    "D1"
   ]
  },
  {
   "cell_type": "code",
   "execution_count": 62,
   "id": "db3f358a",
   "metadata": {},
   "outputs": [
    {
     "data": {
      "text/plain": [
       "{'Names': ('Tushar', 'Sam'), 'Ages': {20, 21}, 'Total Marks': {88, 98}}"
      ]
     },
     "execution_count": 62,
     "metadata": {},
     "output_type": "execute_result"
    }
   ],
   "source": [
    "D5['Names'] = 'Tushar', 'Sam'\n",
    "D5"
   ]
  },
  {
   "cell_type": "code",
   "execution_count": 84,
   "id": "d8d41b22",
   "metadata": {},
   "outputs": [
    {
     "data": {
      "text/plain": [
       "{'Names': ('Tushar', 'Sam'), 'Ages': {20, 21}, 'Total Marks': {88, 98}}"
      ]
     },
     "execution_count": 84,
     "metadata": {},
     "output_type": "execute_result"
    }
   ],
   "source": [
    "D5"
   ]
  },
  {
   "cell_type": "markdown",
   "id": "e26137a6",
   "metadata": {},
   "source": [
    "### ADDING"
   ]
  },
  {
   "cell_type": "code",
   "execution_count": 67,
   "id": "8794b89d",
   "metadata": {},
   "outputs": [],
   "source": [
    "D1['Salary'] = '10 Crores'"
   ]
  },
  {
   "cell_type": "code",
   "execution_count": 68,
   "id": "100d6141",
   "metadata": {},
   "outputs": [
    {
     "data": {
      "text/plain": [
       "{'Name': 'Navneet', 'Age': 22, 'Collage': 'VJTI', 'Salary': '10 Crores'}"
      ]
     },
     "execution_count": 68,
     "metadata": {},
     "output_type": "execute_result"
    }
   ],
   "source": [
    "D1"
   ]
  },
  {
   "cell_type": "code",
   "execution_count": 70,
   "id": "288521e0",
   "metadata": {},
   "outputs": [],
   "source": [
    "D2['Marks'] = {'Python':100}"
   ]
  },
  {
   "cell_type": "code",
   "execution_count": 71,
   "id": "cb36ad86",
   "metadata": {},
   "outputs": [
    {
     "data": {
      "text/plain": [
       "{'Name': 'Sanjay', 'Age': 22, 'Marks': {'Python': 100}}"
      ]
     },
     "execution_count": 71,
     "metadata": {},
     "output_type": "execute_result"
    }
   ],
   "source": [
    "D2"
   ]
  },
  {
   "cell_type": "markdown",
   "id": "7582500d",
   "metadata": {},
   "source": [
    "### DELETING"
   ]
  },
  {
   "cell_type": "markdown",
   "id": "00167ec6",
   "metadata": {},
   "source": [
    "- del\n",
    "- remove()\n",
    "- pop()"
   ]
  },
  {
   "cell_type": "code",
   "execution_count": 72,
   "id": "5a86d806",
   "metadata": {},
   "outputs": [],
   "source": [
    "D10 = {}"
   ]
  },
  {
   "cell_type": "code",
   "execution_count": 73,
   "id": "7953fa5b",
   "metadata": {},
   "outputs": [],
   "source": [
    "del D10"
   ]
  },
  {
   "cell_type": "code",
   "execution_count": 75,
   "id": "f71faef6",
   "metadata": {},
   "outputs": [],
   "source": [
    "del D2['Marks']"
   ]
  },
  {
   "cell_type": "code",
   "execution_count": 76,
   "id": "6bda462c",
   "metadata": {},
   "outputs": [
    {
     "data": {
      "text/plain": [
       "{'Name': 'Sanjay', 'Age': 22}"
      ]
     },
     "execution_count": 76,
     "metadata": {},
     "output_type": "execute_result"
    }
   ],
   "source": [
    "D2"
   ]
  },
  {
   "cell_type": "code",
   "execution_count": 81,
   "id": "f9b5a261",
   "metadata": {},
   "outputs": [
    {
     "data": {
      "text/plain": [
       "'Sanjay'"
      ]
     },
     "execution_count": 81,
     "metadata": {},
     "output_type": "execute_result"
    }
   ],
   "source": [
    "D2.pop('Name')"
   ]
  },
  {
   "cell_type": "code",
   "execution_count": 82,
   "id": "b6e2339c",
   "metadata": {},
   "outputs": [
    {
     "data": {
      "text/plain": [
       "{}"
      ]
     },
     "execution_count": 82,
     "metadata": {},
     "output_type": "execute_result"
    }
   ],
   "source": [
    "D2"
   ]
  },
  {
   "cell_type": "markdown",
   "id": "941bc93c",
   "metadata": {},
   "source": [
    "### OPERATIONS\n",
    "\n",
    "*** Concatination & Multiplication do not allowed in Dictionary \n",
    "\n",
    "- membership\n",
    "- loops"
   ]
  },
  {
   "cell_type": "code",
   "execution_count": 86,
   "id": "4c962a34",
   "metadata": {},
   "outputs": [
    {
     "data": {
      "text/plain": [
       "True"
      ]
     },
     "execution_count": 86,
     "metadata": {},
     "output_type": "execute_result"
    }
   ],
   "source": [
    "'Names' in D5 # It allways searches for keys in dictionary"
   ]
  },
  {
   "cell_type": "code",
   "execution_count": 91,
   "id": "88cf822e",
   "metadata": {},
   "outputs": [
    {
     "name": "stdout",
     "output_type": "stream",
     "text": [
      "Names\n",
      "Ages\n",
      "Total Marks\n"
     ]
    }
   ],
   "source": [
    "for i in D5: # loop will runs over keys not values \n",
    "    print(i) "
   ]
  },
  {
   "cell_type": "code",
   "execution_count": 92,
   "id": "b6249ef0",
   "metadata": {},
   "outputs": [
    {
     "name": "stdout",
     "output_type": "stream",
     "text": [
      "Names ('Tushar', 'Sam')\n",
      "Ages {20, 21}\n",
      "Total Marks {88, 98}\n"
     ]
    }
   ],
   "source": [
    "# If you want values then write this instead\n",
    "for i in D5:\n",
    "    print(i, D5[i])"
   ]
  },
  {
   "cell_type": "markdown",
   "id": "e41b2c6a",
   "metadata": {},
   "source": [
    "### FUNCTIONS\n",
    "\n",
    "- len()\n",
    "- min(), max()\n",
    "- sum()\n",
    "- sorted()"
   ]
  },
  {
   "cell_type": "code",
   "execution_count": 101,
   "id": "f0a540ce",
   "metadata": {},
   "outputs": [
    {
     "data": {
      "text/plain": [
       "3"
      ]
     },
     "execution_count": 101,
     "metadata": {},
     "output_type": "execute_result"
    }
   ],
   "source": [
    "len(D5)"
   ]
  },
  {
   "cell_type": "code",
   "execution_count": 102,
   "id": "b13650b6",
   "metadata": {},
   "outputs": [
    {
     "data": {
      "text/plain": [
       "'Ages'"
      ]
     },
     "execution_count": 102,
     "metadata": {},
     "output_type": "execute_result"
    }
   ],
   "source": [
    "min(D5) # On the basis of ASCII values (Lexiography)"
   ]
  },
  {
   "cell_type": "code",
   "execution_count": 104,
   "id": "07adcb4d",
   "metadata": {},
   "outputs": [
    {
     "data": {
      "text/plain": [
       "'Total Marks'"
      ]
     },
     "execution_count": 104,
     "metadata": {},
     "output_type": "execute_result"
    }
   ],
   "source": [
    "max(D5) # On the basis of ASCII values (Lexiography)"
   ]
  },
  {
   "cell_type": "code",
   "execution_count": 105,
   "id": "41e9c213",
   "metadata": {},
   "outputs": [
    {
     "data": {
      "text/plain": [
       "['Ages', 'Names', 'Total Marks']"
      ]
     },
     "execution_count": 105,
     "metadata": {},
     "output_type": "execute_result"
    }
   ],
   "source": [
    "sorted(D5)"
   ]
  },
  {
   "cell_type": "code",
   "execution_count": 107,
   "id": "f16e99af",
   "metadata": {},
   "outputs": [
    {
     "data": {
      "text/plain": [
       "['Total Marks', 'Names', 'Ages']"
      ]
     },
     "execution_count": 107,
     "metadata": {},
     "output_type": "execute_result"
    }
   ],
   "source": [
    "sorted(D5, reverse=True)"
   ]
  },
  {
   "cell_type": "code",
   "execution_count": null,
   "id": "9db52092",
   "metadata": {},
   "outputs": [],
   "source": []
  }
 ],
 "metadata": {
  "kernelspec": {
   "display_name": "Python 3 (ipykernel)",
   "language": "python",
   "name": "python3"
  },
  "language_info": {
   "codemirror_mode": {
    "name": "ipython",
    "version": 3
   },
   "file_extension": ".py",
   "mimetype": "text/x-python",
   "name": "python",
   "nbconvert_exporter": "python",
   "pygments_lexer": "ipython3",
   "version": "3.10.12"
  }
 },
 "nbformat": 4,
 "nbformat_minor": 5
}
