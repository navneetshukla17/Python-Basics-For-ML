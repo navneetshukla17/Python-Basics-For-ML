{
 "cells": [
  {
   "cell_type": "markdown",
   "id": "02dc45b1",
   "metadata": {},
   "source": [
    "### Types of literal in Python\n",
    "1. Numeric Literals\n",
    "2. String Literals\n",
    "3. Booleans Literals\n",
    "4. Special Literals"
   ]
  },
  {
   "cell_type": "markdown",
   "id": "b1307a76",
   "metadata": {},
   "source": [
    "#### 1. Numeric Literal"
   ]
  },
  {
   "cell_type": "code",
   "execution_count": 9,
   "id": "a0b6d140",
   "metadata": {},
   "outputs": [],
   "source": [
    "a = 0b1010 # Binary Literal\n",
    "b = 100 # Decimal Literal\n",
    "c = 0o310 # Octal Literal\n",
    "d = 0x12f # Hexadecimal Literal"
   ]
  },
  {
   "cell_type": "code",
   "execution_count": 16,
   "id": "48c60445",
   "metadata": {},
   "outputs": [
    {
     "name": "stdout",
     "output_type": "stream",
     "text": [
      "Numeric Literals: (10, 100, 200, 303)\n"
     ]
    }
   ],
   "source": [
    "print(f'Numeric Literals: {a, b, c, d}')"
   ]
  },
  {
   "cell_type": "code",
   "execution_count": 11,
   "id": "caf01999",
   "metadata": {},
   "outputs": [],
   "source": [
    "# Float Literal\n",
    "float_1 = 1.5\n",
    "float_2 = 1.5e2\n",
    "float_3 = 1.5e-3"
   ]
  },
  {
   "cell_type": "code",
   "execution_count": 15,
   "id": "744d9fbd",
   "metadata": {},
   "outputs": [
    {
     "name": "stdout",
     "output_type": "stream",
     "text": [
      "Float Literals: (1.5, 150.0, 0.0015)\n"
     ]
    }
   ],
   "source": [
    "print(f'Float Literals: {float_1, float_2, float_3}')"
   ]
  },
  {
   "cell_type": "markdown",
   "id": "c2f03ecd",
   "metadata": {},
   "source": [
    "#### 2. String Literals"
   ]
  },
  {
   "cell_type": "code",
   "execution_count": 41,
   "id": "6fdf6d83",
   "metadata": {},
   "outputs": [],
   "source": [
    "str1 = 'This is Python'\n",
    "str2 = \"This is also Python\"\n",
    "char = \"T\"\n",
    "multi_line_str = \"\"\"\n",
    "India is my country all Indians are my brothers and sisters, I Love My Country.\n",
    "\"\"\"\n",
    "unicode_char = u\"\\U0001d601\\U0001d602\\U0001d600\"\n",
    "raw_str = r\"\"\"<html>\n",
    "<body>\n",
    "<h1>I am writing HTML code inside Python.</h1>\n",
    "</body>\n",
    "</html>\"\"\""
   ]
  },
  {
   "cell_type": "code",
   "execution_count": 42,
   "id": "72bf6692",
   "metadata": {},
   "outputs": [
    {
     "data": {
      "text/plain": [
       "'<html>\\n<body>\\n<h1>I am writing HTML code inside Python.</h1>\\n</body>\\n</html>'"
      ]
     },
     "execution_count": 42,
     "metadata": {},
     "output_type": "execute_result"
    }
   ],
   "source": [
    "raw_str"
   ]
  },
  {
   "cell_type": "markdown",
   "id": "25d5e5d5",
   "metadata": {},
   "source": [
    "#### Boolean Literals"
   ]
  },
  {
   "cell_type": "code",
   "execution_count": 43,
   "id": "d16a403c",
   "metadata": {},
   "outputs": [],
   "source": [
    "a = True + 4\n",
    "b = False + 10"
   ]
  },
  {
   "cell_type": "code",
   "execution_count": 49,
   "id": "85543afb",
   "metadata": {},
   "outputs": [
    {
     "name": "stdout",
     "output_type": "stream",
     "text": [
      "a: 5 b: 10\n"
     ]
    }
   ],
   "source": [
    "print(\"a:\", a, \"b:\", b)"
   ]
  },
  {
   "cell_type": "code",
   "execution_count": 52,
   "id": "8c0d42fd",
   "metadata": {},
   "outputs": [
    {
     "name": "stdout",
     "output_type": "stream",
     "text": [
      "None\n"
     ]
    }
   ],
   "source": [
    "a = None # execptional case of declaring a variable\n",
    "print(a)"
   ]
  }
 ],
 "metadata": {
  "kernelspec": {
   "display_name": "Python 3 (ipykernel)",
   "language": "python",
   "name": "python3"
  },
  "language_info": {
   "codemirror_mode": {
    "name": "ipython",
    "version": 3
   },
   "file_extension": ".py",
   "mimetype": "text/x-python",
   "name": "python",
   "nbconvert_exporter": "python",
   "pygments_lexer": "ipython3",
   "version": "3.10.12"
  }
 },
 "nbformat": 4,
 "nbformat_minor": 5
}
