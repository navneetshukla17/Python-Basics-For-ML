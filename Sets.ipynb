{
 "cells": [
  {
   "cell_type": "markdown",
   "id": "0adab167",
   "metadata": {},
   "source": [
    "- Important Rules: \n",
    "    \n",
    "    - Sets do not allow duplicate items.\n",
    "    - Sets do not allow Indexing / Slicing.\n",
    "    - Sets do not allow an mutable data type inside it (It means we can not create 2D OR 3D set.\n",
    "    - Set itself is a mutable datatype."
   ]
  },
  {
   "cell_type": "markdown",
   "id": "9dbfb217",
   "metadata": {},
   "source": [
    "- CREATE\n",
    "- ACCESS\n",
    "- EDIT\n",
    "- DELETE\n",
    "- OPERATIONS\n",
    "- FUNCTIONS"
   ]
  },
  {
   "cell_type": "markdown",
   "id": "0d5fd4bb",
   "metadata": {},
   "source": [
    "### CREATE"
   ]
  },
  {
   "cell_type": "code",
   "execution_count": 12,
   "id": "31553234",
   "metadata": {},
   "outputs": [],
   "source": [
    "S1 = set() # An empty set"
   ]
  },
  {
   "cell_type": "code",
   "execution_count": 13,
   "id": "3d3fffc9",
   "metadata": {},
   "outputs": [
    {
     "data": {
      "text/plain": [
       "set"
      ]
     },
     "execution_count": 13,
     "metadata": {},
     "output_type": "execute_result"
    }
   ],
   "source": [
    "type(S1)"
   ]
  },
  {
   "cell_type": "code",
   "execution_count": 14,
   "id": "4a193412",
   "metadata": {},
   "outputs": [],
   "source": [
    "S2 = {1, 2, 3, 4, 5} # An homogenous set"
   ]
  },
  {
   "cell_type": "code",
   "execution_count": 15,
   "id": "a5bdc1bc",
   "metadata": {},
   "outputs": [],
   "source": [
    "S3 = {'Hello', 4.5, 6, True, (5+6j)} # An hetrogenous set"
   ]
  },
  {
   "cell_type": "code",
   "execution_count": 16,
   "id": "b52c5444",
   "metadata": {},
   "outputs": [],
   "source": [
    "# S4 = {{1, 2, 3}, {4, 5, 6}} # we can can create 2D OR 3D set, \n",
    "#beacause sets do not support mutubale datatype inside it."
   ]
  },
  {
   "cell_type": "code",
   "execution_count": 17,
   "id": "de59fd3c",
   "metadata": {},
   "outputs": [],
   "source": [
    "#S4 = {[1, 2, 3], 'Hello'} # also we can not create a list inside a Set,\n",
    "#because lists are mutubale and Sets do not support mutable datatypes."
   ]
  },
  {
   "cell_type": "code",
   "execution_count": 18,
   "id": "1f44f14b",
   "metadata": {},
   "outputs": [],
   "source": [
    "# S4 = {(1, 2, 3), 'Hello'} # Hence, both the datatypes inside this set is Immutable \n",
    "#therefore it created succesfully."
   ]
  },
  {
   "cell_type": "markdown",
   "id": "0c61d86b",
   "metadata": {},
   "source": [
    "### ACCESS"
   ]
  },
  {
   "cell_type": "code",
   "execution_count": 19,
   "id": "d90230e1",
   "metadata": {},
   "outputs": [
    {
     "data": {
      "text/plain": [
       "138405128242784"
      ]
     },
     "execution_count": 19,
     "metadata": {},
     "output_type": "execute_result"
    }
   ],
   "source": [
    "S2\n",
    "id(S2)"
   ]
  },
  {
   "cell_type": "code",
   "execution_count": 20,
   "id": "976bad53",
   "metadata": {},
   "outputs": [],
   "source": [
    "# S2[0] # sets do not support indexing OR slicing."
   ]
  },
  {
   "cell_type": "code",
   "execution_count": 21,
   "id": "a70c06a7",
   "metadata": {},
   "outputs": [
    {
     "data": {
      "text/plain": [
       "138405128242784"
      ]
     },
     "execution_count": 21,
     "metadata": {},
     "output_type": "execute_result"
    }
   ],
   "source": [
    "S2 = list(S2)\n",
    "S2[0] = 100\n",
    "S2 = set(S2)\n",
    "id(S2)"
   ]
  },
  {
   "cell_type": "markdown",
   "id": "00b96e37",
   "metadata": {},
   "source": [
    "### ADD"
   ]
  },
  {
   "cell_type": "code",
   "execution_count": 22,
   "id": "e0b6b51e",
   "metadata": {},
   "outputs": [
    {
     "ename": "NameError",
     "evalue": "name 'S4' is not defined",
     "output_type": "error",
     "traceback": [
      "\u001b[0;31m---------------------------------------------------------------------------\u001b[0m",
      "\u001b[0;31mNameError\u001b[0m                                 Traceback (most recent call last)",
      "Cell \u001b[0;32mIn[22], line 1\u001b[0m\n\u001b[0;32m----> 1\u001b[0m \u001b[43mS4\u001b[49m\u001b[38;5;241m.\u001b[39madd(\u001b[38;5;124m'\u001b[39m\u001b[38;5;124mtushar\u001b[39m\u001b[38;5;124m'\u001b[39m)\n\u001b[1;32m      2\u001b[0m S4\n",
      "\u001b[0;31mNameError\u001b[0m: name 'S4' is not defined"
     ]
    }
   ],
   "source": [
    "S4.add('tushar')\n",
    "S4"
   ]
  },
  {
   "cell_type": "code",
   "execution_count": 23,
   "id": "df385485",
   "metadata": {},
   "outputs": [
    {
     "ename": "NameError",
     "evalue": "name 'S4' is not defined",
     "output_type": "error",
     "traceback": [
      "\u001b[0;31m---------------------------------------------------------------------------\u001b[0m",
      "\u001b[0;31mNameError\u001b[0m                                 Traceback (most recent call last)",
      "Cell \u001b[0;32mIn[23], line 1\u001b[0m\n\u001b[0;32m----> 1\u001b[0m \u001b[43mS4\u001b[49m\u001b[38;5;241m.\u001b[39madd(\u001b[38;5;241m100\u001b[39m)\n",
      "\u001b[0;31mNameError\u001b[0m: name 'S4' is not defined"
     ]
    }
   ],
   "source": [
    "S4.add(100)"
   ]
  },
  {
   "cell_type": "code",
   "execution_count": 24,
   "id": "17d2f574",
   "metadata": {},
   "outputs": [
    {
     "ename": "NameError",
     "evalue": "name 'S4' is not defined",
     "output_type": "error",
     "traceback": [
      "\u001b[0;31m---------------------------------------------------------------------------\u001b[0m",
      "\u001b[0;31mNameError\u001b[0m                                 Traceback (most recent call last)",
      "Cell \u001b[0;32mIn[24], line 1\u001b[0m\n\u001b[0;32m----> 1\u001b[0m \u001b[43mS4\u001b[49m\n",
      "\u001b[0;31mNameError\u001b[0m: name 'S4' is not defined"
     ]
    }
   ],
   "source": [
    "S4"
   ]
  },
  {
   "cell_type": "markdown",
   "id": "33df7e5b",
   "metadata": {},
   "source": [
    "### DELETION\n",
    "\n",
    "- del\n",
    "- remove()\n",
    "- pop()"
   ]
  },
  {
   "cell_type": "code",
   "execution_count": 25,
   "id": "882887e8",
   "metadata": {},
   "outputs": [],
   "source": [
    "del S1 # this  will delete set S1"
   ]
  },
  {
   "cell_type": "code",
   "execution_count": 26,
   "id": "460815df",
   "metadata": {},
   "outputs": [],
   "source": [
    "# del S2[0] # hence indexing is not supported by the set, \n",
    "# # It will not delete item at specific index"
   ]
  },
  {
   "cell_type": "code",
   "execution_count": 27,
   "id": "014244ec",
   "metadata": {},
   "outputs": [
    {
     "ename": "NameError",
     "evalue": "name 'S4' is not defined",
     "output_type": "error",
     "traceback": [
      "\u001b[0;31m---------------------------------------------------------------------------\u001b[0m",
      "\u001b[0;31mNameError\u001b[0m                                 Traceback (most recent call last)",
      "Cell \u001b[0;32mIn[27], line 1\u001b[0m\n\u001b[0;32m----> 1\u001b[0m \u001b[43mS4\u001b[49m\u001b[38;5;241m.\u001b[39mremove(\u001b[38;5;124m'\u001b[39m\u001b[38;5;124mHello\u001b[39m\u001b[38;5;124m'\u001b[39m)\n",
      "\u001b[0;31mNameError\u001b[0m: name 'S4' is not defined"
     ]
    }
   ],
   "source": [
    "S4.remove('Hello')"
   ]
  },
  {
   "cell_type": "code",
   "execution_count": 28,
   "id": "66c67049",
   "metadata": {},
   "outputs": [
    {
     "ename": "NameError",
     "evalue": "name 'S4' is not defined",
     "output_type": "error",
     "traceback": [
      "\u001b[0;31m---------------------------------------------------------------------------\u001b[0m",
      "\u001b[0;31mNameError\u001b[0m                                 Traceback (most recent call last)",
      "Cell \u001b[0;32mIn[28], line 1\u001b[0m\n\u001b[0;32m----> 1\u001b[0m \u001b[43mS4\u001b[49m\n",
      "\u001b[0;31mNameError\u001b[0m: name 'S4' is not defined"
     ]
    }
   ],
   "source": [
    "S4"
   ]
  },
  {
   "cell_type": "code",
   "execution_count": 29,
   "id": "cbd7860f",
   "metadata": {},
   "outputs": [
    {
     "ename": "NameError",
     "evalue": "name 'S4' is not defined",
     "output_type": "error",
     "traceback": [
      "\u001b[0;31m---------------------------------------------------------------------------\u001b[0m",
      "\u001b[0;31mNameError\u001b[0m                                 Traceback (most recent call last)",
      "Cell \u001b[0;32mIn[29], line 1\u001b[0m\n\u001b[0;32m----> 1\u001b[0m \u001b[43mS4\u001b[49m\u001b[38;5;241m.\u001b[39mpop() \u001b[38;5;66;03m# pop() function works different in sets.\u001b[39;00m\n",
      "\u001b[0;31mNameError\u001b[0m: name 'S4' is not defined"
     ]
    }
   ],
   "source": [
    "S4.pop() # pop() function works different in sets."
   ]
  },
  {
   "cell_type": "code",
   "execution_count": 30,
   "id": "59fc4e6b",
   "metadata": {},
   "outputs": [
    {
     "ename": "NameError",
     "evalue": "name 'S4' is not defined",
     "output_type": "error",
     "traceback": [
      "\u001b[0;31m---------------------------------------------------------------------------\u001b[0m",
      "\u001b[0;31mNameError\u001b[0m                                 Traceback (most recent call last)",
      "Cell \u001b[0;32mIn[30], line 1\u001b[0m\n\u001b[0;32m----> 1\u001b[0m \u001b[43mS4\u001b[49m\u001b[38;5;241m.\u001b[39madd(\u001b[38;5;124m'\u001b[39m\u001b[38;5;124mtushar\u001b[39m\u001b[38;5;124m'\u001b[39m)\n",
      "\u001b[0;31mNameError\u001b[0m: name 'S4' is not defined"
     ]
    }
   ],
   "source": [
    "S4.add('tushar')"
   ]
  },
  {
   "cell_type": "code",
   "execution_count": 31,
   "id": "fb079293",
   "metadata": {},
   "outputs": [
    {
     "ename": "NameError",
     "evalue": "name 'S4' is not defined",
     "output_type": "error",
     "traceback": [
      "\u001b[0;31m---------------------------------------------------------------------------\u001b[0m",
      "\u001b[0;31mNameError\u001b[0m                                 Traceback (most recent call last)",
      "Cell \u001b[0;32mIn[31], line 1\u001b[0m\n\u001b[0;32m----> 1\u001b[0m \u001b[43mS4\u001b[49m\n",
      "\u001b[0;31mNameError\u001b[0m: name 'S4' is not defined"
     ]
    }
   ],
   "source": [
    "S4"
   ]
  },
  {
   "cell_type": "markdown",
   "id": "5050f975",
   "metadata": {},
   "source": [
    "### OPERATIONS"
   ]
  },
  {
   "cell_type": "code",
   "execution_count": 32,
   "id": "17abb70b",
   "metadata": {},
   "outputs": [],
   "source": [
    "s1 = {1, 2, 3}\n",
    "s2 = {4, 5, 6}"
   ]
  },
  {
   "cell_type": "code",
   "execution_count": 33,
   "id": "b6184d62",
   "metadata": {},
   "outputs": [],
   "source": [
    "# print(s1 * 3) # multiplication \n",
    "# print(s1 + s2) # concatination do not supported by the Sets."
   ]
  },
  {
   "cell_type": "code",
   "execution_count": 34,
   "id": "98682674",
   "metadata": {},
   "outputs": [
    {
     "name": "stdout",
     "output_type": "stream",
     "text": [
      "4\n",
      "5\n",
      "6\n"
     ]
    }
   ],
   "source": [
    "for i in s2: # loops are supported by the sets.\n",
    "    print(i)"
   ]
  },
  {
   "cell_type": "code",
   "execution_count": 35,
   "id": "e7ab94c7",
   "metadata": {},
   "outputs": [
    {
     "data": {
      "text/plain": [
       "False"
      ]
     },
     "execution_count": 35,
     "metadata": {},
     "output_type": "execute_result"
    }
   ],
   "source": [
    "10 in s1 # membership operation is allowed in Sets."
   ]
  },
  {
   "cell_type": "code",
   "execution_count": 36,
   "id": "fdc338be",
   "metadata": {},
   "outputs": [
    {
     "data": {
      "text/plain": [
       "True"
      ]
     },
     "execution_count": 36,
     "metadata": {},
     "output_type": "execute_result"
    }
   ],
   "source": [
    "1 in s1"
   ]
  },
  {
   "cell_type": "markdown",
   "id": "972855ec",
   "metadata": {},
   "source": [
    "### FUNCTIONS\n",
    "    \n",
    "   - len()\n",
    "   - min(), max()\n",
    "   - sum()\n",
    "   - sorted()"
   ]
  },
  {
   "cell_type": "code",
   "execution_count": 37,
   "id": "29801727",
   "metadata": {},
   "outputs": [
    {
     "data": {
      "text/plain": [
       "3"
      ]
     },
     "execution_count": 37,
     "metadata": {},
     "output_type": "execute_result"
    }
   ],
   "source": [
    "len(s1)"
   ]
  },
  {
   "cell_type": "code",
   "execution_count": 38,
   "id": "4b8e2052",
   "metadata": {},
   "outputs": [
    {
     "data": {
      "text/plain": [
       "1"
      ]
     },
     "execution_count": 38,
     "metadata": {},
     "output_type": "execute_result"
    }
   ],
   "source": [
    "min(s1)"
   ]
  },
  {
   "cell_type": "code",
   "execution_count": 39,
   "id": "79d19fbf",
   "metadata": {},
   "outputs": [
    {
     "data": {
      "text/plain": [
       "6"
      ]
     },
     "execution_count": 39,
     "metadata": {},
     "output_type": "execute_result"
    }
   ],
   "source": [
    "max(s2)"
   ]
  },
  {
   "cell_type": "code",
   "execution_count": 40,
   "id": "0ecbef17",
   "metadata": {},
   "outputs": [
    {
     "data": {
      "text/plain": [
       "15"
      ]
     },
     "execution_count": 40,
     "metadata": {},
     "output_type": "execute_result"
    }
   ],
   "source": [
    "sum(s2)"
   ]
  },
  {
   "cell_type": "code",
   "execution_count": 41,
   "id": "7ae3419d",
   "metadata": {},
   "outputs": [
    {
     "data": {
      "text/plain": [
       "[1, 2, 3]"
      ]
     },
     "execution_count": 41,
     "metadata": {},
     "output_type": "execute_result"
    }
   ],
   "source": [
    "sorted(s1)"
   ]
  },
  {
   "cell_type": "markdown",
   "id": "f91bfcc8",
   "metadata": {},
   "source": [
    "### SET SPECIFIC FUNCTIONS"
   ]
  },
  {
   "cell_type": "code",
   "execution_count": 42,
   "id": "0a35fb33",
   "metadata": {},
   "outputs": [
    {
     "data": {
      "text/plain": [
       "{1, 2, 3, 4, 5, 6}"
      ]
     },
     "execution_count": 42,
     "metadata": {},
     "output_type": "execute_result"
    }
   ],
   "source": [
    "s1.union(s2) # unique items of s1 and s2"
   ]
  },
  {
   "cell_type": "code",
   "execution_count": 43,
   "id": "57221ed7",
   "metadata": {},
   "outputs": [],
   "source": [
    "s3 = {1, 2, 3, 4, 5, 6}\n",
    "s4 = {4, 5, 6, 7, 8, 9}"
   ]
  },
  {
   "cell_type": "code",
   "execution_count": 44,
   "id": "02f51dde",
   "metadata": {},
   "outputs": [
    {
     "data": {
      "text/plain": [
       "{4, 5, 6}"
      ]
     },
     "execution_count": 44,
     "metadata": {},
     "output_type": "execute_result"
    }
   ],
   "source": [
    "s3.intersection(s4) # common items in s3 and s4"
   ]
  },
  {
   "cell_type": "code",
   "execution_count": 45,
   "id": "aaee5f4b",
   "metadata": {},
   "outputs": [
    {
     "data": {
      "text/plain": [
       "{1, 2, 3}"
      ]
     },
     "execution_count": 45,
     "metadata": {},
     "output_type": "execute_result"
    }
   ],
   "source": [
    "s3.difference(s4) # items have in s3 but not in s4"
   ]
  },
  {
   "cell_type": "code",
   "execution_count": 46,
   "id": "9cc5a0fe",
   "metadata": {},
   "outputs": [
    {
     "data": {
      "text/plain": [
       "{7, 8, 9}"
      ]
     },
     "execution_count": 46,
     "metadata": {},
     "output_type": "execute_result"
    }
   ],
   "source": [
    "s4.difference(s3) # items have in s4 but not in s3"
   ]
  },
  {
   "cell_type": "code",
   "execution_count": 47,
   "id": "b824c301",
   "metadata": {},
   "outputs": [
    {
     "data": {
      "text/plain": [
       "{1, 2, 3, 7, 8, 9}"
      ]
     },
     "execution_count": 47,
     "metadata": {},
     "output_type": "execute_result"
    }
   ],
   "source": [
    "s3.symmetric_difference(s4) # prints unique items from s3 and s4 (works like union())"
   ]
  },
  {
   "cell_type": "code",
   "execution_count": 48,
   "id": "a223d352",
   "metadata": {},
   "outputs": [],
   "source": [
    "s5 = {1, 2, 3}\n",
    "s6 = {4, 5, 6}"
   ]
  },
  {
   "cell_type": "code",
   "execution_count": 49,
   "id": "407c1355",
   "metadata": {},
   "outputs": [
    {
     "data": {
      "text/plain": [
       "{1, 2, 3, 4, 5, 6}"
      ]
     },
     "execution_count": 49,
     "metadata": {},
     "output_type": "execute_result"
    }
   ],
   "source": [
    "s5.symmetric_difference(s6) # prints unique items from s5 and s6 (works like union())"
   ]
  },
  {
   "cell_type": "code",
   "execution_count": 50,
   "id": "1f7fc29f",
   "metadata": {},
   "outputs": [
    {
     "data": {
      "text/plain": [
       "True"
      ]
     },
     "execution_count": 50,
     "metadata": {},
     "output_type": "execute_result"
    }
   ],
   "source": [
    "s1.isdisjoint(s2)"
   ]
  },
  {
   "cell_type": "code",
   "execution_count": 51,
   "id": "74f155a7",
   "metadata": {},
   "outputs": [
    {
     "data": {
      "text/plain": [
       "False"
      ]
     },
     "execution_count": 51,
     "metadata": {},
     "output_type": "execute_result"
    }
   ],
   "source": [
    "s3.issubset(s4)"
   ]
  },
  {
   "cell_type": "code",
   "execution_count": 52,
   "id": "6bb0051e",
   "metadata": {},
   "outputs": [
    {
     "data": {
      "text/plain": [
       "False"
      ]
     },
     "execution_count": 52,
     "metadata": {},
     "output_type": "execute_result"
    }
   ],
   "source": [
    "s5.issuperset(s6)"
   ]
  },
  {
   "cell_type": "code",
   "execution_count": 53,
   "id": "a6af74ea",
   "metadata": {},
   "outputs": [],
   "source": [
    "s1.clear()"
   ]
  },
  {
   "cell_type": "code",
   "execution_count": 54,
   "id": "f1375029",
   "metadata": {},
   "outputs": [
    {
     "data": {
      "text/plain": [
       "set()"
      ]
     },
     "execution_count": 54,
     "metadata": {},
     "output_type": "execute_result"
    }
   ],
   "source": [
    "s1"
   ]
  },
  {
   "cell_type": "code",
   "execution_count": null,
   "id": "6f676c74",
   "metadata": {},
   "outputs": [],
   "source": []
  }
 ],
 "metadata": {
  "kernelspec": {
   "display_name": "Python 3 (ipykernel)",
   "language": "python",
   "name": "python3"
  },
  "language_info": {
   "codemirror_mode": {
    "name": "ipython",
    "version": 3
   },
   "file_extension": ".py",
   "mimetype": "text/x-python",
   "name": "python",
   "nbconvert_exporter": "python",
   "pygments_lexer": "ipython3",
   "version": "3.10.12"
  }
 },
 "nbformat": 4,
 "nbformat_minor": 5
}
